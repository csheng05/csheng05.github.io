{
  "nbformat": 4,
  "nbformat_minor": 0,
  "metadata": {
    "kernelspec": {
      "display_name": "Python 3",
      "language": "python",
      "name": "python3"
    },
    "language_info": {
      "codemirror_mode": {
        "name": "ipython",
        "version": 3
      },
      "file_extension": ".py",
      "mimetype": "text/x-python",
      "name": "python",
      "nbconvert_exporter": "python",
      "pygments_lexer": "ipython3",
      "version": "3.7.4"
    },
    "colab": {
      "name": "320 Final Project.ipynb",
      "provenance": [],
      "collapsed_sections": []
    }
  },
  "cells": [
    {
      "cell_type": "markdown",
      "metadata": {
        "id": "L0kGQd3u9Te3",
        "colab_type": "text"
      },
      "source": [
        "# A Safe Haven For Your Movie Streaming Needs: Netflix TV Shows and Movies Dataset Analysis\n",
        "\n",
        "![Netflix](https://torranceca.files.wordpress.com/2019/10/netflix.jpg)\n",
        "\n",
        "### **Introduction**\n",
        "\n",
        "Starting from March of 2020, the world began its lockdown as a defense againse the global pandemic: Covid-19. People are forced to stay at home, whether they are working adults or elementary school students. At the beginning of this lockdown, parents are finding ways to interact and have fun with their children while students and young adults find different ways to pass the time. But as time goes on and the different activities seize to be cool and fun, the people start to turn to the one thing that never seizes to amaze: Netflix. \n",
        "\n",
        "But how does Netflix keep up with the high demands for movies and TV shows? And how did Netflix become one of the top streaming sites? Well, we can start answering those questions by exploring the types and number of movies and TV shows that Netflix has added throughout the years starting from 2007 to 2019, using some of the most important data science techniques we have learned from class.\n",
        "\n",
        "### **Background**\n",
        "The dataset to be used contains more than 6000 different TV shows and movies in of which can be found here: https://www.kaggle.com/shivamb/netflix-shows?fbclid=IwAR0v6IiNRcCQLV-CFhNqloOAJI0wZU8q3CXmj2rO1u1zIg_5kfEfjRKxMMQ\n",
        "\n",
        "We will be focusing our analysis around date_added, type, and country."
      ]
    },
    {
      "cell_type": "markdown",
      "metadata": {
        "id": "4_WmJsQL6TtU",
        "colab_type": "text"
      },
      "source": [
        "### **Our Problem**\n",
        "Using data science techniques in the entertainment industry can be very beneficial to analyze trends and see what works well with users. By using exploratory analysis and data visualizations, hypothesis testing, and machine learning, we are trying to answer the question of how productive Netflix is as a company, and what dates and countries have been the most popular."
      ]
    },
    {
      "cell_type": "markdown",
      "metadata": {
        "id": "Ysisnc9FAHEE",
        "colab_type": "text"
      },
      "source": [
        "### **Data Collection**\n",
        "First, you'll need to obtain the spreadsheet of the dataset listed above. This can be done by going to the site, downloading the csv file, and extracting the file in the same folder with your python project file. Since this dataset is a comma-separated values (csv) file, the pandas' read_csv function can be used to read the file. So begin by importing pandas and any other necessary libraries that you will be needing later on. We imported the libraries we utilized for this project down below."
      ]
    },
    {
      "cell_type": "code",
      "metadata": {
        "scrolled": true,
        "id": "cOndOXrx9Te4",
        "colab_type": "code",
        "outputId": "69f8132e-a1ba-4cd8-b528-b4e4acfe62f2",
        "colab": {
          "base_uri": "https://localhost:8080/",
          "height": 1000
        }
      },
      "source": [
        "import numpy as np\n",
        "import warnings\n",
        "import pandas as pd\n",
        "from IPython.display import Image\n",
        "from scipy.stats import norm\n",
        "from math import sqrt\n",
        "import statsmodels.formula.api as sm\n",
        "import pandas as pd\n",
        "import matplotlib.pyplot as plt\n",
        "warnings.filterwarnings('ignore')\n",
        "\n",
        "# read data into data frame\n",
        "data = pd.read_csv('netflix_titles.csv')\n",
        "data.head(10)"
      ],
      "execution_count": 84,
      "outputs": [
        {
          "output_type": "execute_result",
          "data": {
            "text/html": [
              "<div>\n",
              "<style scoped>\n",
              "    .dataframe tbody tr th:only-of-type {\n",
              "        vertical-align: middle;\n",
              "    }\n",
              "\n",
              "    .dataframe tbody tr th {\n",
              "        vertical-align: top;\n",
              "    }\n",
              "\n",
              "    .dataframe thead th {\n",
              "        text-align: right;\n",
              "    }\n",
              "</style>\n",
              "<table border=\"1\" class=\"dataframe\">\n",
              "  <thead>\n",
              "    <tr style=\"text-align: right;\">\n",
              "      <th></th>\n",
              "      <th>show_id</th>\n",
              "      <th>type</th>\n",
              "      <th>title</th>\n",
              "      <th>director</th>\n",
              "      <th>cast</th>\n",
              "      <th>country</th>\n",
              "      <th>date_added</th>\n",
              "      <th>release_year</th>\n",
              "      <th>rating</th>\n",
              "      <th>duration</th>\n",
              "      <th>listed_in</th>\n",
              "      <th>description</th>\n",
              "    </tr>\n",
              "  </thead>\n",
              "  <tbody>\n",
              "    <tr>\n",
              "      <th>0</th>\n",
              "      <td>81145628</td>\n",
              "      <td>Movie</td>\n",
              "      <td>Norm of the North: King Sized Adventure</td>\n",
              "      <td>Richard Finn, Tim Maltby</td>\n",
              "      <td>Alan Marriott, Andrew Toth, Brian Dobson, Cole...</td>\n",
              "      <td>United States, India, South Korea, China</td>\n",
              "      <td>September 9, 2019</td>\n",
              "      <td>2019</td>\n",
              "      <td>TV-PG</td>\n",
              "      <td>90 min</td>\n",
              "      <td>Children &amp; Family Movies, Comedies</td>\n",
              "      <td>Before planning an awesome wedding for his gra...</td>\n",
              "    </tr>\n",
              "    <tr>\n",
              "      <th>1</th>\n",
              "      <td>80117401</td>\n",
              "      <td>Movie</td>\n",
              "      <td>Jandino: Whatever it Takes</td>\n",
              "      <td>NaN</td>\n",
              "      <td>Jandino Asporaat</td>\n",
              "      <td>United Kingdom</td>\n",
              "      <td>September 9, 2016</td>\n",
              "      <td>2016</td>\n",
              "      <td>TV-MA</td>\n",
              "      <td>94 min</td>\n",
              "      <td>Stand-Up Comedy</td>\n",
              "      <td>Jandino Asporaat riffs on the challenges of ra...</td>\n",
              "    </tr>\n",
              "    <tr>\n",
              "      <th>2</th>\n",
              "      <td>70234439</td>\n",
              "      <td>TV Show</td>\n",
              "      <td>Transformers Prime</td>\n",
              "      <td>NaN</td>\n",
              "      <td>Peter Cullen, Sumalee Montano, Frank Welker, J...</td>\n",
              "      <td>United States</td>\n",
              "      <td>September 8, 2018</td>\n",
              "      <td>2013</td>\n",
              "      <td>TV-Y7-FV</td>\n",
              "      <td>1 Season</td>\n",
              "      <td>Kids' TV</td>\n",
              "      <td>With the help of three human allies, the Autob...</td>\n",
              "    </tr>\n",
              "    <tr>\n",
              "      <th>3</th>\n",
              "      <td>80058654</td>\n",
              "      <td>TV Show</td>\n",
              "      <td>Transformers: Robots in Disguise</td>\n",
              "      <td>NaN</td>\n",
              "      <td>Will Friedle, Darren Criss, Constance Zimmer, ...</td>\n",
              "      <td>United States</td>\n",
              "      <td>September 8, 2018</td>\n",
              "      <td>2016</td>\n",
              "      <td>TV-Y7</td>\n",
              "      <td>1 Season</td>\n",
              "      <td>Kids' TV</td>\n",
              "      <td>When a prison ship crash unleashes hundreds of...</td>\n",
              "    </tr>\n",
              "    <tr>\n",
              "      <th>4</th>\n",
              "      <td>80125979</td>\n",
              "      <td>Movie</td>\n",
              "      <td>#realityhigh</td>\n",
              "      <td>Fernando Lebrija</td>\n",
              "      <td>Nesta Cooper, Kate Walsh, John Michael Higgins...</td>\n",
              "      <td>United States</td>\n",
              "      <td>September 8, 2017</td>\n",
              "      <td>2017</td>\n",
              "      <td>TV-14</td>\n",
              "      <td>99 min</td>\n",
              "      <td>Comedies</td>\n",
              "      <td>When nerdy high schooler Dani finally attracts...</td>\n",
              "    </tr>\n",
              "    <tr>\n",
              "      <th>5</th>\n",
              "      <td>80163890</td>\n",
              "      <td>TV Show</td>\n",
              "      <td>Apaches</td>\n",
              "      <td>NaN</td>\n",
              "      <td>Alberto Ammann, Eloy Azorín, Verónica Echegui,...</td>\n",
              "      <td>Spain</td>\n",
              "      <td>September 8, 2017</td>\n",
              "      <td>2016</td>\n",
              "      <td>TV-MA</td>\n",
              "      <td>1 Season</td>\n",
              "      <td>Crime TV Shows, International TV Shows, Spanis...</td>\n",
              "      <td>A young journalist is forced into a life of cr...</td>\n",
              "    </tr>\n",
              "    <tr>\n",
              "      <th>6</th>\n",
              "      <td>70304989</td>\n",
              "      <td>Movie</td>\n",
              "      <td>Automata</td>\n",
              "      <td>Gabe Ibáñez</td>\n",
              "      <td>Antonio Banderas, Dylan McDermott, Melanie Gri...</td>\n",
              "      <td>Bulgaria, United States, Spain, Canada</td>\n",
              "      <td>September 8, 2017</td>\n",
              "      <td>2014</td>\n",
              "      <td>R</td>\n",
              "      <td>110 min</td>\n",
              "      <td>International Movies, Sci-Fi &amp; Fantasy, Thrillers</td>\n",
              "      <td>In a dystopian future, an insurance adjuster f...</td>\n",
              "    </tr>\n",
              "    <tr>\n",
              "      <th>7</th>\n",
              "      <td>80164077</td>\n",
              "      <td>Movie</td>\n",
              "      <td>Fabrizio Copano: Solo pienso en mi</td>\n",
              "      <td>Rodrigo Toro, Francisco Schultz</td>\n",
              "      <td>Fabrizio Copano</td>\n",
              "      <td>Chile</td>\n",
              "      <td>September 8, 2017</td>\n",
              "      <td>2017</td>\n",
              "      <td>TV-MA</td>\n",
              "      <td>60 min</td>\n",
              "      <td>Stand-Up Comedy</td>\n",
              "      <td>Fabrizio Copano takes audience participation t...</td>\n",
              "    </tr>\n",
              "    <tr>\n",
              "      <th>8</th>\n",
              "      <td>80117902</td>\n",
              "      <td>TV Show</td>\n",
              "      <td>Fire Chasers</td>\n",
              "      <td>NaN</td>\n",
              "      <td>NaN</td>\n",
              "      <td>United States</td>\n",
              "      <td>September 8, 2017</td>\n",
              "      <td>2017</td>\n",
              "      <td>TV-MA</td>\n",
              "      <td>1 Season</td>\n",
              "      <td>Docuseries, Science &amp; Nature TV</td>\n",
              "      <td>As California's 2016 fire season rages, brave ...</td>\n",
              "    </tr>\n",
              "    <tr>\n",
              "      <th>9</th>\n",
              "      <td>70304990</td>\n",
              "      <td>Movie</td>\n",
              "      <td>Good People</td>\n",
              "      <td>Henrik Ruben Genz</td>\n",
              "      <td>James Franco, Kate Hudson, Tom Wilkinson, Omar...</td>\n",
              "      <td>United States, United Kingdom, Denmark, Sweden</td>\n",
              "      <td>September 8, 2017</td>\n",
              "      <td>2014</td>\n",
              "      <td>R</td>\n",
              "      <td>90 min</td>\n",
              "      <td>Action &amp; Adventure, Thrillers</td>\n",
              "      <td>A struggling couple can't believe their luck w...</td>\n",
              "    </tr>\n",
              "  </tbody>\n",
              "</table>\n",
              "</div>"
            ],
            "text/plain": [
              "    show_id  ...                                        description\n",
              "0  81145628  ...  Before planning an awesome wedding for his gra...\n",
              "1  80117401  ...  Jandino Asporaat riffs on the challenges of ra...\n",
              "2  70234439  ...  With the help of three human allies, the Autob...\n",
              "3  80058654  ...  When a prison ship crash unleashes hundreds of...\n",
              "4  80125979  ...  When nerdy high schooler Dani finally attracts...\n",
              "5  80163890  ...  A young journalist is forced into a life of cr...\n",
              "6  70304989  ...  In a dystopian future, an insurance adjuster f...\n",
              "7  80164077  ...  Fabrizio Copano takes audience participation t...\n",
              "8  80117902  ...  As California's 2016 fire season rages, brave ...\n",
              "9  70304990  ...  A struggling couple can't believe their luck w...\n",
              "\n",
              "[10 rows x 12 columns]"
            ]
          },
          "metadata": {
            "tags": []
          },
          "execution_count": 84
        }
      ]
    },
    {
      "cell_type": "markdown",
      "metadata": {
        "id": "HFqbImvaB1YO",
        "colab_type": "text"
      },
      "source": [
        "### **Data Processing**\n",
        "Now that we have our data, we can now process the dataframe into something that would be most useful for our objective. For our analysis, we will be dropping the director and cast columns as well as replacing any nil values with 0 and converting the date_added column into something that is more parsable like datetime."
      ]
    },
    {
      "cell_type": "code",
      "metadata": {
        "scrolled": true,
        "id": "rpDnH37t9TfA",
        "colab_type": "code",
        "outputId": "00070803-85b6-4ff9-e99a-b64c589992a2",
        "colab": {
          "base_uri": "https://localhost:8080/",
          "height": 1000
        }
      },
      "source": [
        "# drop director and actors columns as they are no useful in analysis and any date_added values are NaN\n",
        "data = data.drop(['director', 'cast'], axis=1)\n",
        "data = data[data['date_added'].notnull()]\n",
        "\n",
        "#convert date_added to datetime object\n",
        "data['date_added'] = pd.to_datetime(data['date_added'])\n",
        "data['added_year'] = data.apply(lambda row: row.date_added.year, axis = 1)\n",
        "\n",
        "#drop any data in 2020\n",
        "data = data[data.added_year < 2020]\n",
        "\n",
        "# replace na values with 0\n",
        "data['country'].fillna(0, inplace=True)\n",
        "data['date_added'].fillna(0, inplace=True)\n",
        "data['release_year'].fillna(0, inplace=True)\n",
        "\n",
        "data.head(10)"
      ],
      "execution_count": 85,
      "outputs": [
        {
          "output_type": "execute_result",
          "data": {
            "text/html": [
              "<div>\n",
              "<style scoped>\n",
              "    .dataframe tbody tr th:only-of-type {\n",
              "        vertical-align: middle;\n",
              "    }\n",
              "\n",
              "    .dataframe tbody tr th {\n",
              "        vertical-align: top;\n",
              "    }\n",
              "\n",
              "    .dataframe thead th {\n",
              "        text-align: right;\n",
              "    }\n",
              "</style>\n",
              "<table border=\"1\" class=\"dataframe\">\n",
              "  <thead>\n",
              "    <tr style=\"text-align: right;\">\n",
              "      <th></th>\n",
              "      <th>show_id</th>\n",
              "      <th>type</th>\n",
              "      <th>title</th>\n",
              "      <th>country</th>\n",
              "      <th>date_added</th>\n",
              "      <th>release_year</th>\n",
              "      <th>rating</th>\n",
              "      <th>duration</th>\n",
              "      <th>listed_in</th>\n",
              "      <th>description</th>\n",
              "      <th>added_year</th>\n",
              "    </tr>\n",
              "  </thead>\n",
              "  <tbody>\n",
              "    <tr>\n",
              "      <th>0</th>\n",
              "      <td>81145628</td>\n",
              "      <td>Movie</td>\n",
              "      <td>Norm of the North: King Sized Adventure</td>\n",
              "      <td>United States, India, South Korea, China</td>\n",
              "      <td>2019-09-09</td>\n",
              "      <td>2019</td>\n",
              "      <td>TV-PG</td>\n",
              "      <td>90 min</td>\n",
              "      <td>Children &amp; Family Movies, Comedies</td>\n",
              "      <td>Before planning an awesome wedding for his gra...</td>\n",
              "      <td>2019</td>\n",
              "    </tr>\n",
              "    <tr>\n",
              "      <th>1</th>\n",
              "      <td>80117401</td>\n",
              "      <td>Movie</td>\n",
              "      <td>Jandino: Whatever it Takes</td>\n",
              "      <td>United Kingdom</td>\n",
              "      <td>2016-09-09</td>\n",
              "      <td>2016</td>\n",
              "      <td>TV-MA</td>\n",
              "      <td>94 min</td>\n",
              "      <td>Stand-Up Comedy</td>\n",
              "      <td>Jandino Asporaat riffs on the challenges of ra...</td>\n",
              "      <td>2016</td>\n",
              "    </tr>\n",
              "    <tr>\n",
              "      <th>2</th>\n",
              "      <td>70234439</td>\n",
              "      <td>TV Show</td>\n",
              "      <td>Transformers Prime</td>\n",
              "      <td>United States</td>\n",
              "      <td>2018-09-08</td>\n",
              "      <td>2013</td>\n",
              "      <td>TV-Y7-FV</td>\n",
              "      <td>1 Season</td>\n",
              "      <td>Kids' TV</td>\n",
              "      <td>With the help of three human allies, the Autob...</td>\n",
              "      <td>2018</td>\n",
              "    </tr>\n",
              "    <tr>\n",
              "      <th>3</th>\n",
              "      <td>80058654</td>\n",
              "      <td>TV Show</td>\n",
              "      <td>Transformers: Robots in Disguise</td>\n",
              "      <td>United States</td>\n",
              "      <td>2018-09-08</td>\n",
              "      <td>2016</td>\n",
              "      <td>TV-Y7</td>\n",
              "      <td>1 Season</td>\n",
              "      <td>Kids' TV</td>\n",
              "      <td>When a prison ship crash unleashes hundreds of...</td>\n",
              "      <td>2018</td>\n",
              "    </tr>\n",
              "    <tr>\n",
              "      <th>4</th>\n",
              "      <td>80125979</td>\n",
              "      <td>Movie</td>\n",
              "      <td>#realityhigh</td>\n",
              "      <td>United States</td>\n",
              "      <td>2017-09-08</td>\n",
              "      <td>2017</td>\n",
              "      <td>TV-14</td>\n",
              "      <td>99 min</td>\n",
              "      <td>Comedies</td>\n",
              "      <td>When nerdy high schooler Dani finally attracts...</td>\n",
              "      <td>2017</td>\n",
              "    </tr>\n",
              "    <tr>\n",
              "      <th>5</th>\n",
              "      <td>80163890</td>\n",
              "      <td>TV Show</td>\n",
              "      <td>Apaches</td>\n",
              "      <td>Spain</td>\n",
              "      <td>2017-09-08</td>\n",
              "      <td>2016</td>\n",
              "      <td>TV-MA</td>\n",
              "      <td>1 Season</td>\n",
              "      <td>Crime TV Shows, International TV Shows, Spanis...</td>\n",
              "      <td>A young journalist is forced into a life of cr...</td>\n",
              "      <td>2017</td>\n",
              "    </tr>\n",
              "    <tr>\n",
              "      <th>6</th>\n",
              "      <td>70304989</td>\n",
              "      <td>Movie</td>\n",
              "      <td>Automata</td>\n",
              "      <td>Bulgaria, United States, Spain, Canada</td>\n",
              "      <td>2017-09-08</td>\n",
              "      <td>2014</td>\n",
              "      <td>R</td>\n",
              "      <td>110 min</td>\n",
              "      <td>International Movies, Sci-Fi &amp; Fantasy, Thrillers</td>\n",
              "      <td>In a dystopian future, an insurance adjuster f...</td>\n",
              "      <td>2017</td>\n",
              "    </tr>\n",
              "    <tr>\n",
              "      <th>7</th>\n",
              "      <td>80164077</td>\n",
              "      <td>Movie</td>\n",
              "      <td>Fabrizio Copano: Solo pienso en mi</td>\n",
              "      <td>Chile</td>\n",
              "      <td>2017-09-08</td>\n",
              "      <td>2017</td>\n",
              "      <td>TV-MA</td>\n",
              "      <td>60 min</td>\n",
              "      <td>Stand-Up Comedy</td>\n",
              "      <td>Fabrizio Copano takes audience participation t...</td>\n",
              "      <td>2017</td>\n",
              "    </tr>\n",
              "    <tr>\n",
              "      <th>8</th>\n",
              "      <td>80117902</td>\n",
              "      <td>TV Show</td>\n",
              "      <td>Fire Chasers</td>\n",
              "      <td>United States</td>\n",
              "      <td>2017-09-08</td>\n",
              "      <td>2017</td>\n",
              "      <td>TV-MA</td>\n",
              "      <td>1 Season</td>\n",
              "      <td>Docuseries, Science &amp; Nature TV</td>\n",
              "      <td>As California's 2016 fire season rages, brave ...</td>\n",
              "      <td>2017</td>\n",
              "    </tr>\n",
              "    <tr>\n",
              "      <th>9</th>\n",
              "      <td>70304990</td>\n",
              "      <td>Movie</td>\n",
              "      <td>Good People</td>\n",
              "      <td>United States, United Kingdom, Denmark, Sweden</td>\n",
              "      <td>2017-09-08</td>\n",
              "      <td>2014</td>\n",
              "      <td>R</td>\n",
              "      <td>90 min</td>\n",
              "      <td>Action &amp; Adventure, Thrillers</td>\n",
              "      <td>A struggling couple can't believe their luck w...</td>\n",
              "      <td>2017</td>\n",
              "    </tr>\n",
              "  </tbody>\n",
              "</table>\n",
              "</div>"
            ],
            "text/plain": [
              "    show_id  ... added_year\n",
              "0  81145628  ...       2019\n",
              "1  80117401  ...       2016\n",
              "2  70234439  ...       2018\n",
              "3  80058654  ...       2018\n",
              "4  80125979  ...       2017\n",
              "5  80163890  ...       2017\n",
              "6  70304989  ...       2017\n",
              "7  80164077  ...       2017\n",
              "8  80117902  ...       2017\n",
              "9  70304990  ...       2017\n",
              "\n",
              "[10 rows x 11 columns]"
            ]
          },
          "metadata": {
            "tags": []
          },
          "execution_count": 85
        }
      ]
    },
    {
      "cell_type": "markdown",
      "metadata": {
        "id": "5a3VKwWXqCIS",
        "colab_type": "text"
      },
      "source": [
        "And we can see how many movies and how many tv shows are in this dataframe"
      ]
    },
    {
      "cell_type": "code",
      "metadata": {
        "id": "NOGyKkLAqJ8d",
        "colab_type": "code",
        "outputId": "a6c333a9-4dc7-401b-e6f4-fc79fc8f1bbe",
        "colab": {
          "base_uri": "https://localhost:8080/",
          "height": 85
        }
      },
      "source": [
        "data.groupby(\"type\").size()"
      ],
      "execution_count": 86,
      "outputs": [
        {
          "output_type": "execute_result",
          "data": {
            "text/plain": [
              "type\n",
              "Movie      4117\n",
              "TV Show    1922\n",
              "dtype: int64"
            ]
          },
          "metadata": {
            "tags": []
          },
          "execution_count": 86
        }
      ]
    },
    {
      "cell_type": "markdown",
      "metadata": {
        "id": "irEqh4GYdx3X",
        "colab_type": "text"
      },
      "source": [
        "### **Exploratory Analysis and Data Visualization**\n"
      ]
    },
    {
      "cell_type": "markdown",
      "metadata": {
        "id": "T7tG-6WvfRs0",
        "colab_type": "text"
      },
      "source": [
        "Let's first find which country released the most content onto Netflix."
      ]
    },
    {
      "cell_type": "markdown",
      "metadata": {
        "id": "eRM2_UWpfnAf",
        "colab_type": "text"
      },
      "source": [
        "Some of the movies and TV shows are produced by multiple countries, so first we must separate those entries so that we can calculate the totals for each country individually."
      ]
    },
    {
      "cell_type": "code",
      "metadata": {
        "id": "NkMt13VcfcjC",
        "colab_type": "code",
        "colab": {}
      },
      "source": [
        "#splits country column by the \",\" that separates the countries if there are more than one\n",
        "countries = data['country'].str.split(',', expand = True)\n",
        "keys = [c for c in countries]\n",
        "#puts all the countries in one column\n",
        "countries = pd.melt(countries, value_vars=keys, value_name='country')"
      ],
      "execution_count": 0,
      "outputs": []
    },
    {
      "cell_type": "markdown",
      "metadata": {
        "id": "hUr7attzgC8I",
        "colab_type": "text"
      },
      "source": [
        "Now we will group by the countries, and count how many of each there are."
      ]
    },
    {
      "cell_type": "code",
      "metadata": {
        "id": "VP0PIU-6gGxe",
        "colab_type": "code",
        "outputId": "7e8e7c35-d61c-4f58-bc9d-a45fc45f8e34",
        "colab": {
          "base_uri": "https://localhost:8080/",
          "height": 419
        }
      },
      "source": [
        "countries = countries.groupby('country')\n",
        "countries = countries.count().reset_index()\n",
        "countries = countries.rename(columns={'variable' : 'count'})\n",
        "countries"
      ],
      "execution_count": 88,
      "outputs": [
        {
          "output_type": "execute_result",
          "data": {
            "text/html": [
              "<div>\n",
              "<style scoped>\n",
              "    .dataframe tbody tr th:only-of-type {\n",
              "        vertical-align: middle;\n",
              "    }\n",
              "\n",
              "    .dataframe tbody tr th {\n",
              "        vertical-align: top;\n",
              "    }\n",
              "\n",
              "    .dataframe thead th {\n",
              "        text-align: right;\n",
              "    }\n",
              "</style>\n",
              "<table border=\"1\" class=\"dataframe\">\n",
              "  <thead>\n",
              "    <tr style=\"text-align: right;\">\n",
              "      <th></th>\n",
              "      <th>country</th>\n",
              "      <th>count</th>\n",
              "    </tr>\n",
              "  </thead>\n",
              "  <tbody>\n",
              "    <tr>\n",
              "      <th>0</th>\n",
              "      <td></td>\n",
              "      <td>3</td>\n",
              "    </tr>\n",
              "    <tr>\n",
              "      <th>1</th>\n",
              "      <td>Afghanistan</td>\n",
              "      <td>1</td>\n",
              "    </tr>\n",
              "    <tr>\n",
              "      <th>2</th>\n",
              "      <td>Albania</td>\n",
              "      <td>1</td>\n",
              "    </tr>\n",
              "    <tr>\n",
              "      <th>3</th>\n",
              "      <td>Argentina</td>\n",
              "      <td>12</td>\n",
              "    </tr>\n",
              "    <tr>\n",
              "      <th>4</th>\n",
              "      <td>Armenia</td>\n",
              "      <td>1</td>\n",
              "    </tr>\n",
              "    <tr>\n",
              "      <th>...</th>\n",
              "      <td>...</td>\n",
              "      <td>...</td>\n",
              "    </tr>\n",
              "    <tr>\n",
              "      <th>167</th>\n",
              "      <td>United States</td>\n",
              "      <td>2184</td>\n",
              "    </tr>\n",
              "    <tr>\n",
              "      <th>168</th>\n",
              "      <td>Uruguay</td>\n",
              "      <td>4</td>\n",
              "    </tr>\n",
              "    <tr>\n",
              "      <th>169</th>\n",
              "      <td>Venezuela</td>\n",
              "      <td>2</td>\n",
              "    </tr>\n",
              "    <tr>\n",
              "      <th>170</th>\n",
              "      <td>Vietnam</td>\n",
              "      <td>4</td>\n",
              "    </tr>\n",
              "    <tr>\n",
              "      <th>171</th>\n",
              "      <td>West Germany</td>\n",
              "      <td>1</td>\n",
              "    </tr>\n",
              "  </tbody>\n",
              "</table>\n",
              "<p>172 rows × 2 columns</p>\n",
              "</div>"
            ],
            "text/plain": [
              "           country  count\n",
              "0                       3\n",
              "1      Afghanistan      1\n",
              "2          Albania      1\n",
              "3        Argentina     12\n",
              "4          Armenia      1\n",
              "..             ...    ...\n",
              "167  United States   2184\n",
              "168        Uruguay      4\n",
              "169      Venezuela      2\n",
              "170        Vietnam      4\n",
              "171   West Germany      1\n",
              "\n",
              "[172 rows x 2 columns]"
            ]
          },
          "metadata": {
            "tags": []
          },
          "execution_count": 88
        }
      ]
    },
    {
      "cell_type": "markdown",
      "metadata": {
        "id": "EXqD4N01gPGy",
        "colab_type": "text"
      },
      "source": [
        "\n",
        "\n",
        "That's a lot of countries! Now to find the country with the highest number of countributions to Netflix, we find the maximum count:"
      ]
    },
    {
      "cell_type": "code",
      "metadata": {
        "id": "Lw2MOUYQiUDs",
        "colab_type": "code",
        "outputId": "42b5c094-f69d-4b38-e16c-e6505eb59fc2",
        "colab": {
          "base_uri": "https://localhost:8080/",
          "height": 68
        }
      },
      "source": [
        "countries.loc[countries['count'].idxmax()]"
      ],
      "execution_count": 89,
      "outputs": [
        {
          "output_type": "execute_result",
          "data": {
            "text/plain": [
              "country    United States\n",
              "count               2184\n",
              "Name: 167, dtype: object"
            ]
          },
          "metadata": {
            "tags": []
          },
          "execution_count": 89
        }
      ]
    },
    {
      "cell_type": "markdown",
      "metadata": {
        "id": "PmoeP_T8gf7o",
        "colab_type": "text"
      },
      "source": [
        "This shows that the US has the highest number of contributions to Netflix, with a total of 2184 shows and movies. \n",
        "\n",
        "Now we will do something similar with years, to see in which year Netflix added the most shows.\n",
        "First, we filter the data so that we have the titles and the dates the titles were added to Netflix. We then change the datetime attributes to years, because that's the only time element we need in order to sort by year. "
      ]
    },
    {
      "cell_type": "code",
      "metadata": {
        "id": "4Z5ItV7MgxnW",
        "colab_type": "code",
        "colab": {}
      },
      "source": [
        "year = data.filter(['title','added_year'], axis=1)"
      ],
      "execution_count": 0,
      "outputs": []
    },
    {
      "cell_type": "markdown",
      "metadata": {
        "id": "NGdq2164hBX2",
        "colab_type": "text"
      },
      "source": [
        "Then, we group by the years, and count how many additions there were to Netflix each year. Then we calculate the maximum, just like last time."
      ]
    },
    {
      "cell_type": "code",
      "metadata": {
        "id": "O0BAf8GnhL1r",
        "colab_type": "code",
        "outputId": "36bcfcb0-2faa-4ffe-f19d-c7778583de51",
        "colab": {
          "base_uri": "https://localhost:8080/",
          "height": 68
        }
      },
      "source": [
        "year = year.groupby('added_year')\n",
        "year = year.count().reset_index()\n",
        "year = year.rename(columns={'title' : 'count'})\n",
        "year.loc[year['count'].idxmax()]"
      ],
      "execution_count": 91,
      "outputs": [
        {
          "output_type": "execute_result",
          "data": {
            "text/plain": [
              "added_year    2019\n",
              "count         2349\n",
              "Name: 11, dtype: int64"
            ]
          },
          "metadata": {
            "tags": []
          },
          "execution_count": 91
        }
      ]
    },
    {
      "cell_type": "markdown",
      "metadata": {
        "id": "_nI82sRyhND-",
        "colab_type": "text"
      },
      "source": [
        "We can even graph the number of additions Netflix made, with the 'year' dataframe we created."
      ]
    },
    {
      "cell_type": "code",
      "metadata": {
        "id": "nLGRoV2Ba2zN",
        "colab_type": "code",
        "outputId": "6d5a1d52-4db2-4480-e3da-beae45bc0d3c",
        "colab": {
          "base_uri": "https://localhost:8080/",
          "height": 366
        }
      },
      "source": [
        "ax = year.plot.bar(x='added_year', y='count', rot=0, title = 'Additions Per Year', width = 0.8, figsize = (10,5))\n",
        "ax = plt.setp(ax.get_xticklabels(), fontsize=10, rotation='vertical')"
      ],
      "execution_count": 92,
      "outputs": [
        {
          "output_type": "display_data",
          "data": {
            "image/png": "[encoded data removed]",
            "text/plain": [
              "<Figure size 720x360 with 1 Axes>"
            ]
          },
          "metadata": {
            "tags": [],
            "needs_background": "light"
          }
        }
      ]
    },
    {
      "cell_type": "markdown",
      "metadata": {
        "id": "lRzOsg9lhaPX",
        "colab_type": "text"
      },
      "source": [
        "Now we can visually see that Netflix added the most shows and movies in 2019! \n",
        "\n",
        "What if we want to see how many TV shows and movies Netflix added, separately? We can create another dataframe to count that data, and then graph that with a stacked bar graph.\n",
        "\n",
        "Here we create a dataframe with the same data as in the last dataframe, but this time we group by year AND type. "
      ]
    },
    {
      "cell_type": "code",
      "metadata": {
        "id": "e-Mp6hsFhzJU",
        "colab_type": "code",
        "outputId": "7d14b966-8b99-4ed1-ffd1-8c21f5776dca",
        "colab": {
          "base_uri": "https://localhost:8080/",
          "height": 700
        }
      },
      "source": [
        "showvsmovie = data.filter(['title', 'added_year', 'type'], axis=1)\n",
        "showvsmovie = showvsmovie.groupby(['added_year', 'type'])\n",
        "showvsmovie = showvsmovie.count().reset_index()\n",
        "showvsmovie = showvsmovie.rename(columns={'title' : 'count'})\n",
        "showvsmovie"
      ],
      "execution_count": 93,
      "outputs": [
        {
          "output_type": "execute_result",
          "data": {
            "text/html": [
              "<div>\n",
              "<style scoped>\n",
              "    .dataframe tbody tr th:only-of-type {\n",
              "        vertical-align: middle;\n",
              "    }\n",
              "\n",
              "    .dataframe tbody tr th {\n",
              "        vertical-align: top;\n",
              "    }\n",
              "\n",
              "    .dataframe thead th {\n",
              "        text-align: right;\n",
              "    }\n",
              "</style>\n",
              "<table border=\"1\" class=\"dataframe\">\n",
              "  <thead>\n",
              "    <tr style=\"text-align: right;\">\n",
              "      <th></th>\n",
              "      <th>added_year</th>\n",
              "      <th>type</th>\n",
              "      <th>count</th>\n",
              "    </tr>\n",
              "  </thead>\n",
              "  <tbody>\n",
              "    <tr>\n",
              "      <th>0</th>\n",
              "      <td>2008</td>\n",
              "      <td>Movie</td>\n",
              "      <td>1</td>\n",
              "    </tr>\n",
              "    <tr>\n",
              "      <th>1</th>\n",
              "      <td>2008</td>\n",
              "      <td>TV Show</td>\n",
              "      <td>1</td>\n",
              "    </tr>\n",
              "    <tr>\n",
              "      <th>2</th>\n",
              "      <td>2009</td>\n",
              "      <td>Movie</td>\n",
              "      <td>2</td>\n",
              "    </tr>\n",
              "    <tr>\n",
              "      <th>3</th>\n",
              "      <td>2010</td>\n",
              "      <td>Movie</td>\n",
              "      <td>1</td>\n",
              "    </tr>\n",
              "    <tr>\n",
              "      <th>4</th>\n",
              "      <td>2011</td>\n",
              "      <td>Movie</td>\n",
              "      <td>13</td>\n",
              "    </tr>\n",
              "    <tr>\n",
              "      <th>5</th>\n",
              "      <td>2012</td>\n",
              "      <td>Movie</td>\n",
              "      <td>4</td>\n",
              "    </tr>\n",
              "    <tr>\n",
              "      <th>6</th>\n",
              "      <td>2012</td>\n",
              "      <td>TV Show</td>\n",
              "      <td>3</td>\n",
              "    </tr>\n",
              "    <tr>\n",
              "      <th>7</th>\n",
              "      <td>2013</td>\n",
              "      <td>Movie</td>\n",
              "      <td>6</td>\n",
              "    </tr>\n",
              "    <tr>\n",
              "      <th>8</th>\n",
              "      <td>2013</td>\n",
              "      <td>TV Show</td>\n",
              "      <td>6</td>\n",
              "    </tr>\n",
              "    <tr>\n",
              "      <th>9</th>\n",
              "      <td>2014</td>\n",
              "      <td>Movie</td>\n",
              "      <td>19</td>\n",
              "    </tr>\n",
              "    <tr>\n",
              "      <th>10</th>\n",
              "      <td>2014</td>\n",
              "      <td>TV Show</td>\n",
              "      <td>6</td>\n",
              "    </tr>\n",
              "    <tr>\n",
              "      <th>11</th>\n",
              "      <td>2015</td>\n",
              "      <td>Movie</td>\n",
              "      <td>58</td>\n",
              "    </tr>\n",
              "    <tr>\n",
              "      <th>12</th>\n",
              "      <td>2015</td>\n",
              "      <td>TV Show</td>\n",
              "      <td>32</td>\n",
              "    </tr>\n",
              "    <tr>\n",
              "      <th>13</th>\n",
              "      <td>2016</td>\n",
              "      <td>Movie</td>\n",
              "      <td>264</td>\n",
              "    </tr>\n",
              "    <tr>\n",
              "      <th>14</th>\n",
              "      <td>2016</td>\n",
              "      <td>TV Show</td>\n",
              "      <td>192</td>\n",
              "    </tr>\n",
              "    <tr>\n",
              "      <th>15</th>\n",
              "      <td>2017</td>\n",
              "      <td>Movie</td>\n",
              "      <td>913</td>\n",
              "    </tr>\n",
              "    <tr>\n",
              "      <th>16</th>\n",
              "      <td>2017</td>\n",
              "      <td>TV Show</td>\n",
              "      <td>387</td>\n",
              "    </tr>\n",
              "    <tr>\n",
              "      <th>17</th>\n",
              "      <td>2018</td>\n",
              "      <td>Movie</td>\n",
              "      <td>1290</td>\n",
              "    </tr>\n",
              "    <tr>\n",
              "      <th>18</th>\n",
              "      <td>2018</td>\n",
              "      <td>TV Show</td>\n",
              "      <td>492</td>\n",
              "    </tr>\n",
              "    <tr>\n",
              "      <th>19</th>\n",
              "      <td>2019</td>\n",
              "      <td>Movie</td>\n",
              "      <td>1546</td>\n",
              "    </tr>\n",
              "    <tr>\n",
              "      <th>20</th>\n",
              "      <td>2019</td>\n",
              "      <td>TV Show</td>\n",
              "      <td>803</td>\n",
              "    </tr>\n",
              "  </tbody>\n",
              "</table>\n",
              "</div>"
            ],
            "text/plain": [
              "    added_year     type  count\n",
              "0         2008    Movie      1\n",
              "1         2008  TV Show      1\n",
              "2         2009    Movie      2\n",
              "3         2010    Movie      1\n",
              "4         2011    Movie     13\n",
              "5         2012    Movie      4\n",
              "6         2012  TV Show      3\n",
              "7         2013    Movie      6\n",
              "8         2013  TV Show      6\n",
              "9         2014    Movie     19\n",
              "10        2014  TV Show      6\n",
              "11        2015    Movie     58\n",
              "12        2015  TV Show     32\n",
              "13        2016    Movie    264\n",
              "14        2016  TV Show    192\n",
              "15        2017    Movie    913\n",
              "16        2017  TV Show    387\n",
              "17        2018    Movie   1290\n",
              "18        2018  TV Show    492\n",
              "19        2019    Movie   1546\n",
              "20        2019  TV Show    803"
            ]
          },
          "metadata": {
            "tags": []
          },
          "execution_count": 93
        }
      ]
    },
    {
      "cell_type": "markdown",
      "metadata": {
        "id": "7hn0Uhlyh4J1",
        "colab_type": "text"
      },
      "source": [
        "Great! Now we are going to use the method \"pivot\", which will turn this dataframe into a tidy dataset and combine the rows so that each row represents a single year. "
      ]
    },
    {
      "cell_type": "code",
      "metadata": {
        "id": "Rfc3VPV8iCXX",
        "colab_type": "code",
        "outputId": "f11469b5-edce-42ae-8e19-550e9cc31c8e",
        "colab": {
          "base_uri": "https://localhost:8080/",
          "height": 452
        }
      },
      "source": [
        "showvsmovie = showvsmovie.pivot(index='added_year', columns='type')['count']\n",
        "showvsmovie"
      ],
      "execution_count": 94,
      "outputs": [
        {
          "output_type": "execute_result",
          "data": {
            "text/html": [
              "<div>\n",
              "<style scoped>\n",
              "    .dataframe tbody tr th:only-of-type {\n",
              "        vertical-align: middle;\n",
              "    }\n",
              "\n",
              "    .dataframe tbody tr th {\n",
              "        vertical-align: top;\n",
              "    }\n",
              "\n",
              "    .dataframe thead th {\n",
              "        text-align: right;\n",
              "    }\n",
              "</style>\n",
              "<table border=\"1\" class=\"dataframe\">\n",
              "  <thead>\n",
              "    <tr style=\"text-align: right;\">\n",
              "      <th>type</th>\n",
              "      <th>Movie</th>\n",
              "      <th>TV Show</th>\n",
              "    </tr>\n",
              "    <tr>\n",
              "      <th>added_year</th>\n",
              "      <th></th>\n",
              "      <th></th>\n",
              "    </tr>\n",
              "  </thead>\n",
              "  <tbody>\n",
              "    <tr>\n",
              "      <th>2008</th>\n",
              "      <td>1.0</td>\n",
              "      <td>1.0</td>\n",
              "    </tr>\n",
              "    <tr>\n",
              "      <th>2009</th>\n",
              "      <td>2.0</td>\n",
              "      <td>NaN</td>\n",
              "    </tr>\n",
              "    <tr>\n",
              "      <th>2010</th>\n",
              "      <td>1.0</td>\n",
              "      <td>NaN</td>\n",
              "    </tr>\n",
              "    <tr>\n",
              "      <th>2011</th>\n",
              "      <td>13.0</td>\n",
              "      <td>NaN</td>\n",
              "    </tr>\n",
              "    <tr>\n",
              "      <th>2012</th>\n",
              "      <td>4.0</td>\n",
              "      <td>3.0</td>\n",
              "    </tr>\n",
              "    <tr>\n",
              "      <th>2013</th>\n",
              "      <td>6.0</td>\n",
              "      <td>6.0</td>\n",
              "    </tr>\n",
              "    <tr>\n",
              "      <th>2014</th>\n",
              "      <td>19.0</td>\n",
              "      <td>6.0</td>\n",
              "    </tr>\n",
              "    <tr>\n",
              "      <th>2015</th>\n",
              "      <td>58.0</td>\n",
              "      <td>32.0</td>\n",
              "    </tr>\n",
              "    <tr>\n",
              "      <th>2016</th>\n",
              "      <td>264.0</td>\n",
              "      <td>192.0</td>\n",
              "    </tr>\n",
              "    <tr>\n",
              "      <th>2017</th>\n",
              "      <td>913.0</td>\n",
              "      <td>387.0</td>\n",
              "    </tr>\n",
              "    <tr>\n",
              "      <th>2018</th>\n",
              "      <td>1290.0</td>\n",
              "      <td>492.0</td>\n",
              "    </tr>\n",
              "    <tr>\n",
              "      <th>2019</th>\n",
              "      <td>1546.0</td>\n",
              "      <td>803.0</td>\n",
              "    </tr>\n",
              "  </tbody>\n",
              "</table>\n",
              "</div>"
            ],
            "text/plain": [
              "type         Movie  TV Show\n",
              "added_year                 \n",
              "2008           1.0      1.0\n",
              "2009           2.0      NaN\n",
              "2010           1.0      NaN\n",
              "2011          13.0      NaN\n",
              "2012           4.0      3.0\n",
              "2013           6.0      6.0\n",
              "2014          19.0      6.0\n",
              "2015          58.0     32.0\n",
              "2016         264.0    192.0\n",
              "2017         913.0    387.0\n",
              "2018        1290.0    492.0\n",
              "2019        1546.0    803.0"
            ]
          },
          "metadata": {
            "tags": []
          },
          "execution_count": 94
        }
      ]
    },
    {
      "cell_type": "markdown",
      "metadata": {
        "id": "Xm1E0xu7iFzc",
        "colab_type": "text"
      },
      "source": [
        "Perfect! Now, let's graph. "
      ]
    },
    {
      "cell_type": "code",
      "metadata": {
        "id": "l5DQckGEiHlN",
        "colab_type": "code",
        "outputId": "b06e33e4-9075-4f0f-b20f-c5b8483c8e8f",
        "colab": {
          "base_uri": "https://localhost:8080/",
          "height": 350
        }
      },
      "source": [
        "ax = showvsmovie.plot.bar(color=[\"SkyBlue\",\"IndianRed\"], stacked = True, rot=0, title=\"TV Show and Movie Additions Per Year\",figsize = (10,5)\n",
        ")\n",
        "ax.set_xlabel(\"Year\")\n",
        "ax.set_ylabel(\"Counts\");"
      ],
      "execution_count": 95,
      "outputs": [
        {
          "output_type": "display_data",
          "data": {
            "image/png": "[encoded data removed]",
            "text/plain": [
              "<Figure size 720x360 with 1 Axes>"
            ]
          },
          "metadata": {
            "tags": [],
            "needs_background": "light"
          }
        }
      ]
    },
    {
      "cell_type": "markdown",
      "metadata": {
        "id": "p8oxnj0OfPfH",
        "colab_type": "text"
      },
      "source": [
        "Cool! Now let's compare the time difference for when a show comes out and gets added to Netflix and for when a movie comes out and gets added to Netflix.\n",
        "\n",
        "First let's prepare the data by adding a row for time difference (time_diff) by subtracting the released year from the added year and then preparing a new dataframe for just the type and time difference."
      ]
    },
    {
      "cell_type": "code",
      "metadata": {
        "id": "mEHmdcTJd97a",
        "colab_type": "code",
        "outputId": "97764ec2-1904-47c8-a6dd-ada74da6af7e",
        "colab": {
          "base_uri": "https://localhost:8080/",
          "height": 1000
        }
      },
      "source": [
        "data['time_diff'] = data.apply(lambda row: row.added_year - row.release_year, axis = 1)\n",
        "data.head(10)"
      ],
      "execution_count": 96,
      "outputs": [
        {
          "output_type": "execute_result",
          "data": {
            "text/html": [
              "<div>\n",
              "<style scoped>\n",
              "    .dataframe tbody tr th:only-of-type {\n",
              "        vertical-align: middle;\n",
              "    }\n",
              "\n",
              "    .dataframe tbody tr th {\n",
              "        vertical-align: top;\n",
              "    }\n",
              "\n",
              "    .dataframe thead th {\n",
              "        text-align: right;\n",
              "    }\n",
              "</style>\n",
              "<table border=\"1\" class=\"dataframe\">\n",
              "  <thead>\n",
              "    <tr style=\"text-align: right;\">\n",
              "      <th></th>\n",
              "      <th>show_id</th>\n",
              "      <th>type</th>\n",
              "      <th>title</th>\n",
              "      <th>country</th>\n",
              "      <th>date_added</th>\n",
              "      <th>release_year</th>\n",
              "      <th>rating</th>\n",
              "      <th>duration</th>\n",
              "      <th>listed_in</th>\n",
              "      <th>description</th>\n",
              "      <th>added_year</th>\n",
              "      <th>time_diff</th>\n",
              "    </tr>\n",
              "  </thead>\n",
              "  <tbody>\n",
              "    <tr>\n",
              "      <th>0</th>\n",
              "      <td>81145628</td>\n",
              "      <td>Movie</td>\n",
              "      <td>Norm of the North: King Sized Adventure</td>\n",
              "      <td>United States, India, South Korea, China</td>\n",
              "      <td>2019-09-09</td>\n",
              "      <td>2019</td>\n",
              "      <td>TV-PG</td>\n",
              "      <td>90 min</td>\n",
              "      <td>Children &amp; Family Movies, Comedies</td>\n",
              "      <td>Before planning an awesome wedding for his gra...</td>\n",
              "      <td>2019</td>\n",
              "      <td>0</td>\n",
              "    </tr>\n",
              "    <tr>\n",
              "      <th>1</th>\n",
              "      <td>80117401</td>\n",
              "      <td>Movie</td>\n",
              "      <td>Jandino: Whatever it Takes</td>\n",
              "      <td>United Kingdom</td>\n",
              "      <td>2016-09-09</td>\n",
              "      <td>2016</td>\n",
              "      <td>TV-MA</td>\n",
              "      <td>94 min</td>\n",
              "      <td>Stand-Up Comedy</td>\n",
              "      <td>Jandino Asporaat riffs on the challenges of ra...</td>\n",
              "      <td>2016</td>\n",
              "      <td>0</td>\n",
              "    </tr>\n",
              "    <tr>\n",
              "      <th>2</th>\n",
              "      <td>70234439</td>\n",
              "      <td>TV Show</td>\n",
              "      <td>Transformers Prime</td>\n",
              "      <td>United States</td>\n",
              "      <td>2018-09-08</td>\n",
              "      <td>2013</td>\n",
              "      <td>TV-Y7-FV</td>\n",
              "      <td>1 Season</td>\n",
              "      <td>Kids' TV</td>\n",
              "      <td>With the help of three human allies, the Autob...</td>\n",
              "      <td>2018</td>\n",
              "      <td>5</td>\n",
              "    </tr>\n",
              "    <tr>\n",
              "      <th>3</th>\n",
              "      <td>80058654</td>\n",
              "      <td>TV Show</td>\n",
              "      <td>Transformers: Robots in Disguise</td>\n",
              "      <td>United States</td>\n",
              "      <td>2018-09-08</td>\n",
              "      <td>2016</td>\n",
              "      <td>TV-Y7</td>\n",
              "      <td>1 Season</td>\n",
              "      <td>Kids' TV</td>\n",
              "      <td>When a prison ship crash unleashes hundreds of...</td>\n",
              "      <td>2018</td>\n",
              "      <td>2</td>\n",
              "    </tr>\n",
              "    <tr>\n",
              "      <th>4</th>\n",
              "      <td>80125979</td>\n",
              "      <td>Movie</td>\n",
              "      <td>#realityhigh</td>\n",
              "      <td>United States</td>\n",
              "      <td>2017-09-08</td>\n",
              "      <td>2017</td>\n",
              "      <td>TV-14</td>\n",
              "      <td>99 min</td>\n",
              "      <td>Comedies</td>\n",
              "      <td>When nerdy high schooler Dani finally attracts...</td>\n",
              "      <td>2017</td>\n",
              "      <td>0</td>\n",
              "    </tr>\n",
              "    <tr>\n",
              "      <th>5</th>\n",
              "      <td>80163890</td>\n",
              "      <td>TV Show</td>\n",
              "      <td>Apaches</td>\n",
              "      <td>Spain</td>\n",
              "      <td>2017-09-08</td>\n",
              "      <td>2016</td>\n",
              "      <td>TV-MA</td>\n",
              "      <td>1 Season</td>\n",
              "      <td>Crime TV Shows, International TV Shows, Spanis...</td>\n",
              "      <td>A young journalist is forced into a life of cr...</td>\n",
              "      <td>2017</td>\n",
              "      <td>1</td>\n",
              "    </tr>\n",
              "    <tr>\n",
              "      <th>6</th>\n",
              "      <td>70304989</td>\n",
              "      <td>Movie</td>\n",
              "      <td>Automata</td>\n",
              "      <td>Bulgaria, United States, Spain, Canada</td>\n",
              "      <td>2017-09-08</td>\n",
              "      <td>2014</td>\n",
              "      <td>R</td>\n",
              "      <td>110 min</td>\n",
              "      <td>International Movies, Sci-Fi &amp; Fantasy, Thrillers</td>\n",
              "      <td>In a dystopian future, an insurance adjuster f...</td>\n",
              "      <td>2017</td>\n",
              "      <td>3</td>\n",
              "    </tr>\n",
              "    <tr>\n",
              "      <th>7</th>\n",
              "      <td>80164077</td>\n",
              "      <td>Movie</td>\n",
              "      <td>Fabrizio Copano: Solo pienso en mi</td>\n",
              "      <td>Chile</td>\n",
              "      <td>2017-09-08</td>\n",
              "      <td>2017</td>\n",
              "      <td>TV-MA</td>\n",
              "      <td>60 min</td>\n",
              "      <td>Stand-Up Comedy</td>\n",
              "      <td>Fabrizio Copano takes audience participation t...</td>\n",
              "      <td>2017</td>\n",
              "      <td>0</td>\n",
              "    </tr>\n",
              "    <tr>\n",
              "      <th>8</th>\n",
              "      <td>80117902</td>\n",
              "      <td>TV Show</td>\n",
              "      <td>Fire Chasers</td>\n",
              "      <td>United States</td>\n",
              "      <td>2017-09-08</td>\n",
              "      <td>2017</td>\n",
              "      <td>TV-MA</td>\n",
              "      <td>1 Season</td>\n",
              "      <td>Docuseries, Science &amp; Nature TV</td>\n",
              "      <td>As California's 2016 fire season rages, brave ...</td>\n",
              "      <td>2017</td>\n",
              "      <td>0</td>\n",
              "    </tr>\n",
              "    <tr>\n",
              "      <th>9</th>\n",
              "      <td>70304990</td>\n",
              "      <td>Movie</td>\n",
              "      <td>Good People</td>\n",
              "      <td>United States, United Kingdom, Denmark, Sweden</td>\n",
              "      <td>2017-09-08</td>\n",
              "      <td>2014</td>\n",
              "      <td>R</td>\n",
              "      <td>90 min</td>\n",
              "      <td>Action &amp; Adventure, Thrillers</td>\n",
              "      <td>A struggling couple can't believe their luck w...</td>\n",
              "      <td>2017</td>\n",
              "      <td>3</td>\n",
              "    </tr>\n",
              "  </tbody>\n",
              "</table>\n",
              "</div>"
            ],
            "text/plain": [
              "    show_id     type  ... added_year time_diff\n",
              "0  81145628    Movie  ...       2019         0\n",
              "1  80117401    Movie  ...       2016         0\n",
              "2  70234439  TV Show  ...       2018         5\n",
              "3  80058654  TV Show  ...       2018         2\n",
              "4  80125979    Movie  ...       2017         0\n",
              "5  80163890  TV Show  ...       2017         1\n",
              "6  70304989    Movie  ...       2017         3\n",
              "7  80164077    Movie  ...       2017         0\n",
              "8  80117902  TV Show  ...       2017         0\n",
              "9  70304990    Movie  ...       2017         3\n",
              "\n",
              "[10 rows x 12 columns]"
            ]
          },
          "metadata": {
            "tags": []
          },
          "execution_count": 96
        }
      ]
    },
    {
      "cell_type": "markdown",
      "metadata": {
        "id": "P9qQGRpFeAau",
        "colab_type": "text"
      },
      "source": [
        "Great! Now let's filter and prepare the needed data for plotting."
      ]
    },
    {
      "cell_type": "code",
      "metadata": {
        "id": "Gn844pS_eDWs",
        "colab_type": "code",
        "outputId": "a5ee247f-1b67-4db4-c5b2-a374a2df3238",
        "colab": {
          "base_uri": "https://localhost:8080/",
          "height": 450
        }
      },
      "source": [
        "diff_times = data.filter(['title', 'time_diff', 'type'], axis=1)\n",
        "diff_times = diff_times.groupby(['time_diff', 'type'])\n",
        "diff_times = diff_times.count().reset_index()\n",
        "diff_times = diff_times.rename(columns={'title' : 'count'})\n",
        "diff_times = diff_times.pivot(index='time_diff', columns='type')['count']\n",
        "diff_times"
      ],
      "execution_count": 97,
      "outputs": [
        {
          "output_type": "execute_result",
          "data": {
            "text/html": [
              "<div>\n",
              "<style scoped>\n",
              "    .dataframe tbody tr th:only-of-type {\n",
              "        vertical-align: middle;\n",
              "    }\n",
              "\n",
              "    .dataframe tbody tr th {\n",
              "        vertical-align: top;\n",
              "    }\n",
              "\n",
              "    .dataframe thead th {\n",
              "        text-align: right;\n",
              "    }\n",
              "</style>\n",
              "<table border=\"1\" class=\"dataframe\">\n",
              "  <thead>\n",
              "    <tr style=\"text-align: right;\">\n",
              "      <th>type</th>\n",
              "      <th>Movie</th>\n",
              "      <th>TV Show</th>\n",
              "    </tr>\n",
              "    <tr>\n",
              "      <th>time_diff</th>\n",
              "      <th></th>\n",
              "      <th></th>\n",
              "    </tr>\n",
              "  </thead>\n",
              "  <tbody>\n",
              "    <tr>\n",
              "      <th>-3</th>\n",
              "      <td>NaN</td>\n",
              "      <td>1.0</td>\n",
              "    </tr>\n",
              "    <tr>\n",
              "      <th>-2</th>\n",
              "      <td>NaN</td>\n",
              "      <td>1.0</td>\n",
              "    </tr>\n",
              "    <tr>\n",
              "      <th>-1</th>\n",
              "      <td>2.0</td>\n",
              "      <td>5.0</td>\n",
              "    </tr>\n",
              "    <tr>\n",
              "      <th>0</th>\n",
              "      <td>1212.0</td>\n",
              "      <td>910.0</td>\n",
              "    </tr>\n",
              "    <tr>\n",
              "      <th>1</th>\n",
              "      <td>914.0</td>\n",
              "      <td>353.0</td>\n",
              "    </tr>\n",
              "    <tr>\n",
              "      <th>...</th>\n",
              "      <td>...</td>\n",
              "      <td>...</td>\n",
              "    </tr>\n",
              "    <tr>\n",
              "      <th>72</th>\n",
              "      <td>4.0</td>\n",
              "      <td>NaN</td>\n",
              "    </tr>\n",
              "    <tr>\n",
              "      <th>73</th>\n",
              "      <td>3.0</td>\n",
              "      <td>NaN</td>\n",
              "    </tr>\n",
              "    <tr>\n",
              "      <th>74</th>\n",
              "      <td>3.0</td>\n",
              "      <td>NaN</td>\n",
              "    </tr>\n",
              "    <tr>\n",
              "      <th>75</th>\n",
              "      <td>2.0</td>\n",
              "      <td>NaN</td>\n",
              "    </tr>\n",
              "    <tr>\n",
              "      <th>93</th>\n",
              "      <td>NaN</td>\n",
              "      <td>1.0</td>\n",
              "    </tr>\n",
              "  </tbody>\n",
              "</table>\n",
              "<p>71 rows × 2 columns</p>\n",
              "</div>"
            ],
            "text/plain": [
              "type        Movie  TV Show\n",
              "time_diff                 \n",
              "-3            NaN      1.0\n",
              "-2            NaN      1.0\n",
              "-1            2.0      5.0\n",
              " 0         1212.0    910.0\n",
              " 1          914.0    353.0\n",
              "...           ...      ...\n",
              " 72           4.0      NaN\n",
              " 73           3.0      NaN\n",
              " 74           3.0      NaN\n",
              " 75           2.0      NaN\n",
              " 93           NaN      1.0\n",
              "\n",
              "[71 rows x 2 columns]"
            ]
          },
          "metadata": {
            "tags": []
          },
          "execution_count": 97
        }
      ]
    },
    {
      "cell_type": "markdown",
      "metadata": {
        "id": "ntZI6IQaMcVH",
        "colab_type": "text"
      },
      "source": [
        "Now let's plot!"
      ]
    },
    {
      "cell_type": "code",
      "metadata": {
        "id": "zwk06e6ueGom",
        "colab_type": "code",
        "outputId": "ab025a8a-1743-45cb-dbf5-65d1e28160a9",
        "colab": {
          "base_uri": "https://localhost:8080/",
          "height": 351
        }
      },
      "source": [
        "plot_diff = diff_times.plot(figsize=(10,5))\n",
        "plot_diff.set_ylabel('counts')\n",
        "plot_diff.set_title('Movie Time vs TV Show Time Differences');"
      ],
      "execution_count": 98,
      "outputs": [
        {
          "output_type": "display_data",
          "data": {
            "image/png": "[encoded data removed]",
            "text/plain": [
              "<Figure size 720x360 with 1 Axes>"
            ]
          },
          "metadata": {
            "tags": [],
            "needs_background": "light"
          }
        }
      ]
    },
    {
      "cell_type": "markdown",
      "metadata": {
        "id": "3LiElxdfeNv8",
        "colab_type": "text"
      },
      "source": [
        "It looks like most of the TV shows and movies were added shortly after they were made, but there were some movies with substantial differences between the date of their release and the date of their addition to Netflix.\n",
        "\n",
        "Going back to looking at movies and TV shows added per year, let's look at the same data but this time a bit more specifically by looking at ratings of these movies and TV shows. \n",
        "\n",
        "So lets first separate the movies from the TV shows."
      ]
    },
    {
      "cell_type": "code",
      "metadata": {
        "id": "y0DQZulTePWA",
        "colab_type": "code",
        "colab": {}
      },
      "source": [
        "#separated Movie and TV Show\n",
        "grouped_data = data.groupby('type')\n",
        "movies = grouped_data.get_group('Movie')\n",
        "tv = grouped_data.get_group('TV Show')"
      ],
      "execution_count": 0,
      "outputs": []
    },
    {
      "cell_type": "markdown",
      "metadata": {
        "id": "Hoci2KT4ZN8M",
        "colab_type": "text"
      },
      "source": [
        "And now group by the ratings and the years of which the movies are added to Netflix."
      ]
    },
    {
      "cell_type": "code",
      "metadata": {
        "id": "uHbH-kebeSOG",
        "colab_type": "code",
        "outputId": "f56a785c-af97-4c3e-d42b-cac7fbfa600c",
        "colab": {
          "base_uri": "https://localhost:8080/",
          "height": 421
        }
      },
      "source": [
        "#group movies by year_added and rating\n",
        "grouped_m = movies.groupby([\"added_year\",\"rating\"]).size() #gets the row counts\n",
        "grouped_m = grouped_m.reset_index(name='counts') #convert to dataframe to be used later\n",
        "grouped_m = grouped_m.pivot(index ='added_year', columns ='rating') \n",
        "grouped_m.head(10)"
      ],
      "execution_count": 100,
      "outputs": [
        {
          "output_type": "execute_result",
          "data": {
            "text/html": [
              "<div>\n",
              "<style scoped>\n",
              "    .dataframe tbody tr th:only-of-type {\n",
              "        vertical-align: middle;\n",
              "    }\n",
              "\n",
              "    .dataframe tbody tr th {\n",
              "        vertical-align: top;\n",
              "    }\n",
              "\n",
              "    .dataframe thead tr th {\n",
              "        text-align: left;\n",
              "    }\n",
              "\n",
              "    .dataframe thead tr:last-of-type th {\n",
              "        text-align: right;\n",
              "    }\n",
              "</style>\n",
              "<table border=\"1\" class=\"dataframe\">\n",
              "  <thead>\n",
              "    <tr>\n",
              "      <th></th>\n",
              "      <th colspan=\"14\" halign=\"left\">counts</th>\n",
              "    </tr>\n",
              "    <tr>\n",
              "      <th>rating</th>\n",
              "      <th>G</th>\n",
              "      <th>NC-17</th>\n",
              "      <th>NR</th>\n",
              "      <th>PG</th>\n",
              "      <th>PG-13</th>\n",
              "      <th>R</th>\n",
              "      <th>TV-14</th>\n",
              "      <th>TV-G</th>\n",
              "      <th>TV-MA</th>\n",
              "      <th>TV-PG</th>\n",
              "      <th>TV-Y</th>\n",
              "      <th>TV-Y7</th>\n",
              "      <th>TV-Y7-FV</th>\n",
              "      <th>UR</th>\n",
              "    </tr>\n",
              "    <tr>\n",
              "      <th>added_year</th>\n",
              "      <th></th>\n",
              "      <th></th>\n",
              "      <th></th>\n",
              "      <th></th>\n",
              "      <th></th>\n",
              "      <th></th>\n",
              "      <th></th>\n",
              "      <th></th>\n",
              "      <th></th>\n",
              "      <th></th>\n",
              "      <th></th>\n",
              "      <th></th>\n",
              "      <th></th>\n",
              "      <th></th>\n",
              "    </tr>\n",
              "  </thead>\n",
              "  <tbody>\n",
              "    <tr>\n",
              "      <th>2008</th>\n",
              "      <td>NaN</td>\n",
              "      <td>NaN</td>\n",
              "      <td>1.0</td>\n",
              "      <td>NaN</td>\n",
              "      <td>NaN</td>\n",
              "      <td>NaN</td>\n",
              "      <td>NaN</td>\n",
              "      <td>NaN</td>\n",
              "      <td>NaN</td>\n",
              "      <td>NaN</td>\n",
              "      <td>NaN</td>\n",
              "      <td>NaN</td>\n",
              "      <td>NaN</td>\n",
              "      <td>NaN</td>\n",
              "    </tr>\n",
              "    <tr>\n",
              "      <th>2009</th>\n",
              "      <td>NaN</td>\n",
              "      <td>NaN</td>\n",
              "      <td>1.0</td>\n",
              "      <td>NaN</td>\n",
              "      <td>NaN</td>\n",
              "      <td>NaN</td>\n",
              "      <td>1.0</td>\n",
              "      <td>NaN</td>\n",
              "      <td>NaN</td>\n",
              "      <td>NaN</td>\n",
              "      <td>NaN</td>\n",
              "      <td>NaN</td>\n",
              "      <td>NaN</td>\n",
              "      <td>NaN</td>\n",
              "    </tr>\n",
              "    <tr>\n",
              "      <th>2010</th>\n",
              "      <td>NaN</td>\n",
              "      <td>NaN</td>\n",
              "      <td>1.0</td>\n",
              "      <td>NaN</td>\n",
              "      <td>NaN</td>\n",
              "      <td>NaN</td>\n",
              "      <td>NaN</td>\n",
              "      <td>NaN</td>\n",
              "      <td>NaN</td>\n",
              "      <td>NaN</td>\n",
              "      <td>NaN</td>\n",
              "      <td>NaN</td>\n",
              "      <td>NaN</td>\n",
              "      <td>NaN</td>\n",
              "    </tr>\n",
              "    <tr>\n",
              "      <th>2011</th>\n",
              "      <td>NaN</td>\n",
              "      <td>NaN</td>\n",
              "      <td>9.0</td>\n",
              "      <td>NaN</td>\n",
              "      <td>NaN</td>\n",
              "      <td>NaN</td>\n",
              "      <td>NaN</td>\n",
              "      <td>NaN</td>\n",
              "      <td>NaN</td>\n",
              "      <td>4.0</td>\n",
              "      <td>NaN</td>\n",
              "      <td>NaN</td>\n",
              "      <td>NaN</td>\n",
              "      <td>NaN</td>\n",
              "    </tr>\n",
              "    <tr>\n",
              "      <th>2012</th>\n",
              "      <td>NaN</td>\n",
              "      <td>NaN</td>\n",
              "      <td>NaN</td>\n",
              "      <td>1.0</td>\n",
              "      <td>NaN</td>\n",
              "      <td>1.0</td>\n",
              "      <td>NaN</td>\n",
              "      <td>1.0</td>\n",
              "      <td>NaN</td>\n",
              "      <td>1.0</td>\n",
              "      <td>NaN</td>\n",
              "      <td>NaN</td>\n",
              "      <td>NaN</td>\n",
              "      <td>NaN</td>\n",
              "    </tr>\n",
              "    <tr>\n",
              "      <th>2013</th>\n",
              "      <td>NaN</td>\n",
              "      <td>NaN</td>\n",
              "      <td>4.0</td>\n",
              "      <td>1.0</td>\n",
              "      <td>NaN</td>\n",
              "      <td>NaN</td>\n",
              "      <td>NaN</td>\n",
              "      <td>1.0</td>\n",
              "      <td>NaN</td>\n",
              "      <td>NaN</td>\n",
              "      <td>NaN</td>\n",
              "      <td>NaN</td>\n",
              "      <td>NaN</td>\n",
              "      <td>NaN</td>\n",
              "    </tr>\n",
              "    <tr>\n",
              "      <th>2014</th>\n",
              "      <td>1.0</td>\n",
              "      <td>NaN</td>\n",
              "      <td>5.0</td>\n",
              "      <td>3.0</td>\n",
              "      <td>NaN</td>\n",
              "      <td>NaN</td>\n",
              "      <td>1.0</td>\n",
              "      <td>NaN</td>\n",
              "      <td>5.0</td>\n",
              "      <td>2.0</td>\n",
              "      <td>1.0</td>\n",
              "      <td>1.0</td>\n",
              "      <td>NaN</td>\n",
              "      <td>NaN</td>\n",
              "    </tr>\n",
              "    <tr>\n",
              "      <th>2015</th>\n",
              "      <td>1.0</td>\n",
              "      <td>NaN</td>\n",
              "      <td>19.0</td>\n",
              "      <td>2.0</td>\n",
              "      <td>2.0</td>\n",
              "      <td>3.0</td>\n",
              "      <td>6.0</td>\n",
              "      <td>4.0</td>\n",
              "      <td>13.0</td>\n",
              "      <td>2.0</td>\n",
              "      <td>2.0</td>\n",
              "      <td>1.0</td>\n",
              "      <td>1.0</td>\n",
              "      <td>NaN</td>\n",
              "    </tr>\n",
              "    <tr>\n",
              "      <th>2016</th>\n",
              "      <td>2.0</td>\n",
              "      <td>1.0</td>\n",
              "      <td>62.0</td>\n",
              "      <td>4.0</td>\n",
              "      <td>6.0</td>\n",
              "      <td>14.0</td>\n",
              "      <td>48.0</td>\n",
              "      <td>2.0</td>\n",
              "      <td>78.0</td>\n",
              "      <td>26.0</td>\n",
              "      <td>NaN</td>\n",
              "      <td>10.0</td>\n",
              "      <td>8.0</td>\n",
              "      <td>1.0</td>\n",
              "    </tr>\n",
              "    <tr>\n",
              "      <th>2017</th>\n",
              "      <td>4.0</td>\n",
              "      <td>NaN</td>\n",
              "      <td>56.0</td>\n",
              "      <td>22.0</td>\n",
              "      <td>27.0</td>\n",
              "      <td>71.0</td>\n",
              "      <td>218.0</td>\n",
              "      <td>17.0</td>\n",
              "      <td>343.0</td>\n",
              "      <td>114.0</td>\n",
              "      <td>14.0</td>\n",
              "      <td>17.0</td>\n",
              "      <td>5.0</td>\n",
              "      <td>2.0</td>\n",
              "    </tr>\n",
              "  </tbody>\n",
              "</table>\n",
              "</div>"
            ],
            "text/plain": [
              "           counts                          ...                                 \n",
              "rating          G NC-17    NR    PG PG-13  ...  TV-PG  TV-Y TV-Y7 TV-Y7-FV   UR\n",
              "added_year                                 ...                                 \n",
              "2008          NaN   NaN   1.0   NaN   NaN  ...    NaN   NaN   NaN      NaN  NaN\n",
              "2009          NaN   NaN   1.0   NaN   NaN  ...    NaN   NaN   NaN      NaN  NaN\n",
              "2010          NaN   NaN   1.0   NaN   NaN  ...    NaN   NaN   NaN      NaN  NaN\n",
              "2011          NaN   NaN   9.0   NaN   NaN  ...    4.0   NaN   NaN      NaN  NaN\n",
              "2012          NaN   NaN   NaN   1.0   NaN  ...    1.0   NaN   NaN      NaN  NaN\n",
              "2013          NaN   NaN   4.0   1.0   NaN  ...    NaN   NaN   NaN      NaN  NaN\n",
              "2014          1.0   NaN   5.0   3.0   NaN  ...    2.0   1.0   1.0      NaN  NaN\n",
              "2015          1.0   NaN  19.0   2.0   2.0  ...    2.0   2.0   1.0      1.0  NaN\n",
              "2016          2.0   1.0  62.0   4.0   6.0  ...   26.0   NaN  10.0      8.0  1.0\n",
              "2017          4.0   NaN  56.0  22.0  27.0  ...  114.0  14.0  17.0      5.0  2.0\n",
              "\n",
              "[10 rows x 14 columns]"
            ]
          },
          "metadata": {
            "tags": []
          },
          "execution_count": 100
        }
      ]
    },
    {
      "cell_type": "code",
      "metadata": {
        "id": "dsZRsxQgee0p",
        "colab_type": "code",
        "outputId": "86ae9191-b028-4d7e-96d6-0cdffbab862b",
        "colab": {
          "base_uri": "https://localhost:8080/",
          "height": 335
        }
      },
      "source": [
        "movie_plot = grouped_m.plot.bar(y = 'counts', rot = 0, figsize=(10,5))"
      ],
      "execution_count": 101,
      "outputs": [
        {
          "output_type": "display_data",
          "data": {
            "image/png": "[encoded data removed]",
            "text/plain": [
              "<Figure size 720x360 with 1 Axes>"
            ]
          },
          "metadata": {
            "tags": [],
            "needs_background": "light"
          }
        }
      ]
    },
    {
      "cell_type": "markdown",
      "metadata": {
        "id": "B5NzFag0eXYr",
        "colab_type": "text"
      },
      "source": [
        "From this graph it can be seen that TV-MA was the most common rating in 2016, 2017, 2018, and 2019. TV-14 was the second most common in 2017, 2018, and 2019, while NR was the second most common in 2016, and the most common in 2015.\n",
        "\n",
        "The same thing is done for TV Shows:"
      ]
    },
    {
      "cell_type": "code",
      "metadata": {
        "id": "VhUVKNygeYJw",
        "colab_type": "code",
        "outputId": "818fd7d2-1c9b-41a9-bc2e-7c3342b23806",
        "colab": {
          "base_uri": "https://localhost:8080/",
          "height": 390
        }
      },
      "source": [
        "#group tv shows by year_added and rating\n",
        "grouped_t = tv.groupby([\"rating\", \"added_year\"]).size() #gets the row counts\n",
        "grouped_t = grouped_t.reset_index(name='counts') #convert to dataframe to be used later\n",
        "grouped_t = grouped_t.pivot(index ='added_year', columns ='rating') \n",
        "grouped_t.head(10)"
      ],
      "execution_count": 102,
      "outputs": [
        {
          "output_type": "execute_result",
          "data": {
            "text/html": [
              "<div>\n",
              "<style scoped>\n",
              "    .dataframe tbody tr th:only-of-type {\n",
              "        vertical-align: middle;\n",
              "    }\n",
              "\n",
              "    .dataframe tbody tr th {\n",
              "        vertical-align: top;\n",
              "    }\n",
              "\n",
              "    .dataframe thead tr th {\n",
              "        text-align: left;\n",
              "    }\n",
              "\n",
              "    .dataframe thead tr:last-of-type th {\n",
              "        text-align: right;\n",
              "    }\n",
              "</style>\n",
              "<table border=\"1\" class=\"dataframe\">\n",
              "  <thead>\n",
              "    <tr>\n",
              "      <th></th>\n",
              "      <th colspan=\"11\" halign=\"left\">counts</th>\n",
              "    </tr>\n",
              "    <tr>\n",
              "      <th>rating</th>\n",
              "      <th>G</th>\n",
              "      <th>NR</th>\n",
              "      <th>PG</th>\n",
              "      <th>R</th>\n",
              "      <th>TV-14</th>\n",
              "      <th>TV-G</th>\n",
              "      <th>TV-MA</th>\n",
              "      <th>TV-PG</th>\n",
              "      <th>TV-Y</th>\n",
              "      <th>TV-Y7</th>\n",
              "      <th>TV-Y7-FV</th>\n",
              "    </tr>\n",
              "    <tr>\n",
              "      <th>added_year</th>\n",
              "      <th></th>\n",
              "      <th></th>\n",
              "      <th></th>\n",
              "      <th></th>\n",
              "      <th></th>\n",
              "      <th></th>\n",
              "      <th></th>\n",
              "      <th></th>\n",
              "      <th></th>\n",
              "      <th></th>\n",
              "      <th></th>\n",
              "    </tr>\n",
              "  </thead>\n",
              "  <tbody>\n",
              "    <tr>\n",
              "      <th>2008</th>\n",
              "      <td>NaN</td>\n",
              "      <td>NaN</td>\n",
              "      <td>NaN</td>\n",
              "      <td>NaN</td>\n",
              "      <td>NaN</td>\n",
              "      <td>NaN</td>\n",
              "      <td>1.0</td>\n",
              "      <td>NaN</td>\n",
              "      <td>NaN</td>\n",
              "      <td>NaN</td>\n",
              "      <td>NaN</td>\n",
              "    </tr>\n",
              "    <tr>\n",
              "      <th>2012</th>\n",
              "      <td>NaN</td>\n",
              "      <td>NaN</td>\n",
              "      <td>NaN</td>\n",
              "      <td>NaN</td>\n",
              "      <td>NaN</td>\n",
              "      <td>NaN</td>\n",
              "      <td>NaN</td>\n",
              "      <td>3.0</td>\n",
              "      <td>NaN</td>\n",
              "      <td>NaN</td>\n",
              "      <td>NaN</td>\n",
              "    </tr>\n",
              "    <tr>\n",
              "      <th>2013</th>\n",
              "      <td>NaN</td>\n",
              "      <td>1.0</td>\n",
              "      <td>NaN</td>\n",
              "      <td>NaN</td>\n",
              "      <td>2.0</td>\n",
              "      <td>NaN</td>\n",
              "      <td>2.0</td>\n",
              "      <td>1.0</td>\n",
              "      <td>NaN</td>\n",
              "      <td>NaN</td>\n",
              "      <td>NaN</td>\n",
              "    </tr>\n",
              "    <tr>\n",
              "      <th>2014</th>\n",
              "      <td>NaN</td>\n",
              "      <td>NaN</td>\n",
              "      <td>NaN</td>\n",
              "      <td>NaN</td>\n",
              "      <td>NaN</td>\n",
              "      <td>NaN</td>\n",
              "      <td>3.0</td>\n",
              "      <td>1.0</td>\n",
              "      <td>1.0</td>\n",
              "      <td>1.0</td>\n",
              "      <td>NaN</td>\n",
              "    </tr>\n",
              "    <tr>\n",
              "      <th>2015</th>\n",
              "      <td>NaN</td>\n",
              "      <td>NaN</td>\n",
              "      <td>NaN</td>\n",
              "      <td>NaN</td>\n",
              "      <td>5.0</td>\n",
              "      <td>6.0</td>\n",
              "      <td>6.0</td>\n",
              "      <td>7.0</td>\n",
              "      <td>2.0</td>\n",
              "      <td>4.0</td>\n",
              "      <td>2.0</td>\n",
              "    </tr>\n",
              "    <tr>\n",
              "      <th>2016</th>\n",
              "      <td>NaN</td>\n",
              "      <td>NaN</td>\n",
              "      <td>NaN</td>\n",
              "      <td>1.0</td>\n",
              "      <td>85.0</td>\n",
              "      <td>7.0</td>\n",
              "      <td>31.0</td>\n",
              "      <td>24.0</td>\n",
              "      <td>10.0</td>\n",
              "      <td>8.0</td>\n",
              "      <td>25.0</td>\n",
              "    </tr>\n",
              "    <tr>\n",
              "      <th>2017</th>\n",
              "      <td>NaN</td>\n",
              "      <td>6.0</td>\n",
              "      <td>NaN</td>\n",
              "      <td>NaN</td>\n",
              "      <td>154.0</td>\n",
              "      <td>11.0</td>\n",
              "      <td>91.0</td>\n",
              "      <td>78.0</td>\n",
              "      <td>23.0</td>\n",
              "      <td>20.0</td>\n",
              "      <td>4.0</td>\n",
              "    </tr>\n",
              "    <tr>\n",
              "      <th>2018</th>\n",
              "      <td>1.0</td>\n",
              "      <td>5.0</td>\n",
              "      <td>NaN</td>\n",
              "      <td>NaN</td>\n",
              "      <td>138.0</td>\n",
              "      <td>13.0</td>\n",
              "      <td>202.0</td>\n",
              "      <td>63.0</td>\n",
              "      <td>23.0</td>\n",
              "      <td>27.0</td>\n",
              "      <td>19.0</td>\n",
              "    </tr>\n",
              "    <tr>\n",
              "      <th>2019</th>\n",
              "      <td>NaN</td>\n",
              "      <td>3.0</td>\n",
              "      <td>1.0</td>\n",
              "      <td>1.0</td>\n",
              "      <td>260.0</td>\n",
              "      <td>31.0</td>\n",
              "      <td>326.0</td>\n",
              "      <td>88.0</td>\n",
              "      <td>39.0</td>\n",
              "      <td>37.0</td>\n",
              "      <td>17.0</td>\n",
              "    </tr>\n",
              "  </tbody>\n",
              "</table>\n",
              "</div>"
            ],
            "text/plain": [
              "           counts                                                              \n",
              "rating          G   NR   PG    R  TV-14  TV-G  TV-MA TV-PG  TV-Y TV-Y7 TV-Y7-FV\n",
              "added_year                                                                     \n",
              "2008          NaN  NaN  NaN  NaN    NaN   NaN    1.0   NaN   NaN   NaN      NaN\n",
              "2012          NaN  NaN  NaN  NaN    NaN   NaN    NaN   3.0   NaN   NaN      NaN\n",
              "2013          NaN  1.0  NaN  NaN    2.0   NaN    2.0   1.0   NaN   NaN      NaN\n",
              "2014          NaN  NaN  NaN  NaN    NaN   NaN    3.0   1.0   1.0   1.0      NaN\n",
              "2015          NaN  NaN  NaN  NaN    5.0   6.0    6.0   7.0   2.0   4.0      2.0\n",
              "2016          NaN  NaN  NaN  1.0   85.0   7.0   31.0  24.0  10.0   8.0     25.0\n",
              "2017          NaN  6.0  NaN  NaN  154.0  11.0   91.0  78.0  23.0  20.0      4.0\n",
              "2018          1.0  5.0  NaN  NaN  138.0  13.0  202.0  63.0  23.0  27.0     19.0\n",
              "2019          NaN  3.0  1.0  1.0  260.0  31.0  326.0  88.0  39.0  37.0     17.0"
            ]
          },
          "metadata": {
            "tags": []
          },
          "execution_count": 102
        }
      ]
    },
    {
      "cell_type": "code",
      "metadata": {
        "id": "i1E9oMlzeUnt",
        "colab_type": "code",
        "outputId": "263f72be-8dac-4a63-bcb9-33d7fa78b9e3",
        "colab": {
          "base_uri": "https://localhost:8080/",
          "height": 335
        }
      },
      "source": [
        "tv_plot = grouped_t.plot.bar(y = 'counts', rot= 0, figsize=(10,5))"
      ],
      "execution_count": 103,
      "outputs": [
        {
          "output_type": "display_data",
          "data": {
            "image/png": "[encoded data removed]",
            "text/plain": [
              "<Figure size 720x360 with 1 Axes>"
            ]
          },
          "metadata": {
            "tags": [],
            "needs_background": "light"
          }
        }
      ]
    },
    {
      "cell_type": "markdown",
      "metadata": {
        "id": "uLQx8PMshHdg",
        "colab_type": "text"
      },
      "source": [
        "TV-MA was also the most common rating for TV shows in 2018 and 2019. The second most common was TV-14 in 2018 and 2019, just like it was for movies. TV-14 was the most common in 2016 and 2017."
      ]
    },
    {
      "cell_type": "markdown",
      "metadata": {
        "id": "sLCswFYx65lg",
        "colab_type": "text"
      },
      "source": [
        "### **Hypothesis Testing**"
      ]
    },
    {
      "cell_type": "markdown",
      "metadata": {
        "id": "TS2tBVAA7rZ4",
        "colab_type": "text"
      },
      "source": [
        "The hypothesis we are going to test is if the number of movies produced in 2017 and 2019 stayed the same for the rating of TV-MA. This will be our null hypothesis. So we are testing that pB − pA ≤ 0 where pB is TV_MA movies produced in 2017 and pA is TV-MA movies produced in 2019.\n",
        "\n",
        "As can be seen in the above graphs, the quantity of movies in each rating category appeared to increase over time. To confirm that these increases were statistically significant, we chose to compare the quantity of a specific movie rating between years. We selected movies rated TV-MA because this was the most popular rating for movies added to Netflix in both 2017 and 2019, as can be seen in the graph above. "
      ]
    },
    {
      "cell_type": "markdown",
      "metadata": {
        "id": "4NLDDwv54_wY",
        "colab_type": "text"
      },
      "source": [
        "We will start off by iterating the rows of our dataframe to get our numbers. We will need the total number of movies sampled in 2017 and 2019 (represented by total_movies17 and total_movies19 respectively), and then how many of those movies were TV-MA (represented by movies17 and movies19). We will use these numbers to calculate pB and pA as shown below."
      ]
    },
    {
      "cell_type": "code",
      "metadata": {
        "id": "0pnDFK3F6svs",
        "colab_type": "code",
        "colab": {}
      },
      "source": [
        "alpha = 0.05\n",
        "\n",
        "total_movies17 = 0\n",
        "total_movies19 = 0\n",
        "movies17 = 0\n",
        "movies19 = 0\n",
        "\n",
        "for _, row in data.iterrows():\n",
        "    typ = row[\"type\"]\n",
        "    added_year = row[\"added_year\"]\n",
        "    rating = row[\"rating\"]\n",
        "    \n",
        "    if(typ == \"Movie\"):\n",
        "        if(added_year == 2017):\n",
        "            total_movies17 += 1\n",
        "            if(rating == \"TV-MA\"):\n",
        "                movies17 += 1\n",
        "        if(added_year == 2019):\n",
        "            total_movies19 += 1\n",
        "            if(rating == \"TV-MA\"):\n",
        "                movies19 += 1"
      ],
      "execution_count": 0,
      "outputs": []
    },
    {
      "cell_type": "markdown",
      "metadata": {
        "id": "AOf5u3IT6_VM",
        "colab_type": "text"
      },
      "source": [
        "Here are our estimate values for TV-MA movies produced in 2017 and 2019:"
      ]
    },
    {
      "cell_type": "code",
      "metadata": {
        "id": "sNpbBnhi7FD-",
        "colab_type": "code",
        "colab": {}
      },
      "source": [
        "pB = movies17/(total_movies17)\n",
        "pA = movies19/(total_movies19)"
      ],
      "execution_count": 0,
      "outputs": []
    },
    {
      "cell_type": "markdown",
      "metadata": {
        "id": "-J1PO6su5aIk",
        "colab_type": "text"
      },
      "source": [
        "Now we need to calculate our estimate value and variance through statistics:"
      ]
    },
    {
      "cell_type": "code",
      "metadata": {
        "id": "P2nMi8Qv3Nkh",
        "colab_type": "code",
        "outputId": "26aba626-299d-435f-df68-b27736eb9b4f",
        "colab": {
          "base_uri": "https://localhost:8080/",
          "height": 34
        }
      },
      "source": [
        "total = total_movies17 + total_movies19\n",
        "\n",
        "p = ((pB)*(total_movies17/total))+((pA)*(total_movies19/total)) \n",
        "\n",
        "varY = p * (1-p) * ((1/total_movies17)+(1/total_movies19))\n",
        "\n",
        "yHat = pB - pA\n",
        "\n",
        "prob = 1- norm.cdf(x=yHat, loc=0, scale = sqrt(varY))\n",
        "\n",
        "prob"
      ],
      "execution_count": 106,
      "outputs": [
        {
          "output_type": "execute_result",
          "data": {
            "text/plain": [
              "1.1855564705509636e-06"
            ]
          },
          "metadata": {
            "tags": []
          },
          "execution_count": 106
        }
      ]
    },
    {
      "cell_type": "markdown",
      "metadata": {
        "id": "8CiYUsNo8HtW",
        "colab_type": "text"
      },
      "source": [
        "From our analysis, we can reject our null hypothesis because P(Y > yHat) = 1.1855564705509636e-06 which is less than our alpha value of .05. This means we can confidently say that the total movies with the rating TV-MA from 2017 to 2019 did not stay the same.\n",
        "\n",
        "\n"
      ]
    },
    {
      "cell_type": "markdown",
      "metadata": {
        "id": "zocZ-JBh63-2",
        "colab_type": "text"
      },
      "source": [
        "So now that we confirmed that there is indeed a change in production of TV-MA movies between the years, let's see if the overall total of movies added to Netflix increases or decreases as time goes on."
      ]
    },
    {
      "cell_type": "markdown",
      "metadata": {
        "id": "MkKykCjS8pAd",
        "colab_type": "text"
      },
      "source": [
        "\n",
        "### **Linear Regressions**\n"
      ]
    },
    {
      "cell_type": "markdown",
      "metadata": {
        "id": "xvqV4oV4-4y0",
        "colab_type": "text"
      },
      "source": [
        "Linear regression is utilized to complete predictive analysis. Through linear regression, we can model the relationships between predictor variables and the magnitude of their relationships by mapping them to a linear format. "
      ]
    },
    {
      "cell_type": "markdown",
      "metadata": {
        "id": "lcfSE3QqfKCz",
        "colab_type": "text"
      },
      "source": [
        "In order to determine if there is an overall increase in total movies and TV shows, we must look more specifically at just the added_years and count. Here, we make a linear regression line to show data such as R-Sqared, Intercepts, p-values, etc. We chose to evaluate the data from 2014 onwards, because that appears to be when Netflix started developing popularity."
      ]
    },
    {
      "cell_type": "code",
      "metadata": {
        "id": "8WxwaDNDdY57",
        "colab_type": "code",
        "outputId": "62882b4a-e396-4863-9343-047a3b089601",
        "colab": {
          "base_uri": "https://localhost:8080/",
          "height": 478
        }
      },
      "source": [
        "# Use year data frame from before\n",
        "\n",
        "# stats\n",
        "year = year[year.added_year >2013]\n",
        "simple_res = sm.ols('count~added_year', data=year).fit();\n",
        "simple_res.summary()"
      ],
      "execution_count": 107,
      "outputs": [
        {
          "output_type": "execute_result",
          "data": {
            "text/html": [
              "<table class=\"simpletable\">\n",
              "<caption>OLS Regression Results</caption>\n",
              "<tr>\n",
              "  <th>Dep. Variable:</th>          <td>count</td>      <th>  R-squared:         </th> <td>   0.956</td>\n",
              "</tr>\n",
              "<tr>\n",
              "  <th>Model:</th>                   <td>OLS</td>       <th>  Adj. R-squared:    </th> <td>   0.945</td>\n",
              "</tr>\n",
              "<tr>\n",
              "  <th>Method:</th>             <td>Least Squares</td>  <th>  F-statistic:       </th> <td>   87.48</td>\n",
              "</tr>\n",
              "<tr>\n",
              "  <th>Date:</th>             <td>Mon, 18 May 2020</td> <th>  Prob (F-statistic):</th> <td>0.000728</td>\n",
              "</tr>\n",
              "<tr>\n",
              "  <th>Time:</th>                 <td>15:02:43</td>     <th>  Log-Likelihood:    </th> <td> -39.771</td>\n",
              "</tr>\n",
              "<tr>\n",
              "  <th>No. Observations:</th>      <td>     6</td>      <th>  AIC:               </th> <td>   83.54</td>\n",
              "</tr>\n",
              "<tr>\n",
              "  <th>Df Residuals:</th>          <td>     4</td>      <th>  BIC:               </th> <td>   83.13</td>\n",
              "</tr>\n",
              "<tr>\n",
              "  <th>Df Model:</th>              <td>     1</td>      <th>                     </th>     <td> </td>   \n",
              "</tr>\n",
              "<tr>\n",
              "  <th>Covariance Type:</th>      <td>nonrobust</td>    <th>                     </th>     <td> </td>   \n",
              "</tr>\n",
              "</table>\n",
              "<table class=\"simpletable\">\n",
              "<tr>\n",
              "       <td></td>         <th>coef</th>     <th>std err</th>      <th>t</th>      <th>P>|t|</th>  <th>[0.025</th>    <th>0.975]</th>  \n",
              "</tr>\n",
              "<tr>\n",
              "  <th>Intercept</th>  <td> -1.01e+06</td> <td> 1.08e+05</td> <td>   -9.344</td> <td> 0.001</td> <td>-1.31e+06</td> <td> -7.1e+05</td>\n",
              "</tr>\n",
              "<tr>\n",
              "  <th>added_year</th> <td>  501.1429</td> <td>   53.581</td> <td>    9.353</td> <td> 0.001</td> <td>  352.379</td> <td>  649.907</td>\n",
              "</tr>\n",
              "</table>\n",
              "<table class=\"simpletable\">\n",
              "<tr>\n",
              "  <th>Omnibus:</th>       <td>   nan</td> <th>  Durbin-Watson:     </th> <td>   1.646</td>\n",
              "</tr>\n",
              "<tr>\n",
              "  <th>Prob(Omnibus):</th> <td>   nan</td> <th>  Jarque-Bera (JB):  </th> <td>   0.240</td>\n",
              "</tr>\n",
              "<tr>\n",
              "  <th>Skew:</th>          <td>-0.189</td> <th>  Prob(JB):          </th> <td>   0.887</td>\n",
              "</tr>\n",
              "<tr>\n",
              "  <th>Kurtosis:</th>      <td> 2.095</td> <th>  Cond. No.          </th> <td>2.38e+06</td>\n",
              "</tr>\n",
              "</table><br/><br/>Warnings:<br/>[1] Standard Errors assume that the covariance matrix of the errors is correctly specified.<br/>[2] The condition number is large, 2.38e+06. This might indicate that there are<br/>strong multicollinearity or other numerical problems."
            ],
            "text/plain": [
              "<class 'statsmodels.iolib.summary.Summary'>\n",
              "\"\"\"\n",
              "                            OLS Regression Results                            \n",
              "==============================================================================\n",
              "Dep. Variable:                  count   R-squared:                       0.956\n",
              "Model:                            OLS   Adj. R-squared:                  0.945\n",
              "Method:                 Least Squares   F-statistic:                     87.48\n",
              "Date:                Mon, 18 May 2020   Prob (F-statistic):           0.000728\n",
              "Time:                        15:02:43   Log-Likelihood:                -39.771\n",
              "No. Observations:                   6   AIC:                             83.54\n",
              "Df Residuals:                       4   BIC:                             83.13\n",
              "Df Model:                           1                                         \n",
              "Covariance Type:            nonrobust                                         \n",
              "==============================================================================\n",
              "                 coef    std err          t      P>|t|      [0.025      0.975]\n",
              "------------------------------------------------------------------------------\n",
              "Intercept   -1.01e+06   1.08e+05     -9.344      0.001   -1.31e+06    -7.1e+05\n",
              "added_year   501.1429     53.581      9.353      0.001     352.379     649.907\n",
              "==============================================================================\n",
              "Omnibus:                          nan   Durbin-Watson:                   1.646\n",
              "Prob(Omnibus):                    nan   Jarque-Bera (JB):                0.240\n",
              "Skew:                          -0.189   Prob(JB):                        0.887\n",
              "Kurtosis:                       2.095   Cond. No.                     2.38e+06\n",
              "==============================================================================\n",
              "\n",
              "Warnings:\n",
              "[1] Standard Errors assume that the covariance matrix of the errors is correctly specified.\n",
              "[2] The condition number is large, 2.38e+06. This might indicate that there are\n",
              "strong multicollinearity or other numerical problems.\n",
              "\"\"\""
            ]
          },
          "metadata": {
            "tags": []
          },
          "execution_count": 107
        }
      ]
    },
    {
      "cell_type": "code",
      "metadata": {
        "id": "vHyBYiRNeMj6",
        "colab_type": "code",
        "outputId": "fab86c93-f414-4f24-b1c3-5fef1887adee",
        "colab": {
          "base_uri": "https://localhost:8080/",
          "height": 68
        }
      },
      "source": [
        "simple_res.params"
      ],
      "execution_count": 108,
      "outputs": [
        {
          "output_type": "execute_result",
          "data": {
            "text/plain": [
              "Intercept    -1.009554e+06\n",
              "added_year    5.011429e+02\n",
              "dtype: float64"
            ]
          },
          "metadata": {
            "tags": []
          },
          "execution_count": 108
        }
      ]
    },
    {
      "cell_type": "markdown",
      "metadata": {
        "id": "2yONjW5QOtdk",
        "colab_type": "text"
      },
      "source": [
        "Since the pvalue is small we can reject the null hypothsis that there is no relationsip between the number of movies produced and the year. It is safe to assume that as years increase, number of movies produced increases as well. On average, Netflix produces 186.73 more movies every year."
      ]
    },
    {
      "cell_type": "markdown",
      "metadata": {
        "id": "FjfqpswFVws4",
        "colab_type": "text"
      },
      "source": [
        "Now let's plot this data and map a linear regression for a visual representation of this analysis."
      ]
    },
    {
      "cell_type": "code",
      "metadata": {
        "id": "d-9H7C3dSRj6",
        "colab_type": "code",
        "outputId": "d2e792ef-59ac-453d-92fa-5dc06a7f73e4",
        "colab": {
          "base_uri": "https://localhost:8080/",
          "height": 335
        }
      },
      "source": [
        "# linear regression plot line\n",
        "year.plot.scatter(x = 'added_year', y = 'count', figsize=(10,5))\n",
        "x = year['added_year']\n",
        "y = year['count']\n",
        "m,b = np.polyfit(x,y,1)\n",
        "plt.plot(x, m*x+b, '-');"
      ],
      "execution_count": 109,
      "outputs": [
        {
          "output_type": "display_data",
          "data": {
            "image/png": "[encoded data removed]",
            "text/plain": [
              "<Figure size 720x360 with 1 Axes>"
            ]
          },
          "metadata": {
            "tags": [],
            "needs_background": "light"
          }
        }
      ]
    },
    {
      "cell_type": "markdown",
      "metadata": {
        "id": "vlNw_VYSeAqS",
        "colab_type": "text"
      },
      "source": [
        "\n",
        "And the predicted number of movies/tv shows to be added by the end of 2020 is....\n",
        "\n"
      ]
    },
    {
      "cell_type": "code",
      "metadata": {
        "id": "UmbehT7RDRKx",
        "colab_type": "code",
        "outputId": "5564be58-7a24-44c1-e4d4-b6af17bd59a7",
        "colab": {
          "base_uri": "https://localhost:8080/",
          "height": 34
        }
      },
      "source": [
        "m*2020+b"
      ],
      "execution_count": 110,
      "outputs": [
        {
          "output_type": "execute_result",
          "data": {
            "text/plain": [
              "2754.3333333332557"
            ]
          },
          "metadata": {
            "tags": []
          },
          "execution_count": 110
        }
      ]
    },
    {
      "cell_type": "markdown",
      "metadata": {
        "id": "UwJPPN2LM6Cf",
        "colab_type": "text"
      },
      "source": [
        "Now let's see if there is a relationship between number of movies/tv shows added, year that they're added, and the rating (This is just like the technique above, just with the whole data and a different type of graph)"
      ]
    },
    {
      "cell_type": "code",
      "metadata": {
        "id": "XBhZdVmhNRmC",
        "colab_type": "code",
        "outputId": "027fd654-3360-4a46-d7b3-b11bc7db1562",
        "colab": {
          "base_uri": "https://localhost:8080/",
          "height": 452
        }
      },
      "source": [
        "r_times = data.filter(['title', 'added_year', 'rating'], axis=1)\n",
        "r_times = r_times.groupby(['added_year', 'rating'])\n",
        "r_times = r_times.count().reset_index()\n",
        "r_times = r_times.rename(columns={'title' : 'count'})\n",
        "rate_data = r_times.pivot(index='added_year', columns='rating')['count']\n",
        "rate_data"
      ],
      "execution_count": 111,
      "outputs": [
        {
          "output_type": "execute_result",
          "data": {
            "text/html": [
              "<div>\n",
              "<style scoped>\n",
              "    .dataframe tbody tr th:only-of-type {\n",
              "        vertical-align: middle;\n",
              "    }\n",
              "\n",
              "    .dataframe tbody tr th {\n",
              "        vertical-align: top;\n",
              "    }\n",
              "\n",
              "    .dataframe thead th {\n",
              "        text-align: right;\n",
              "    }\n",
              "</style>\n",
              "<table border=\"1\" class=\"dataframe\">\n",
              "  <thead>\n",
              "    <tr style=\"text-align: right;\">\n",
              "      <th>rating</th>\n",
              "      <th>G</th>\n",
              "      <th>NC-17</th>\n",
              "      <th>NR</th>\n",
              "      <th>PG</th>\n",
              "      <th>PG-13</th>\n",
              "      <th>R</th>\n",
              "      <th>TV-14</th>\n",
              "      <th>TV-G</th>\n",
              "      <th>TV-MA</th>\n",
              "      <th>TV-PG</th>\n",
              "      <th>TV-Y</th>\n",
              "      <th>TV-Y7</th>\n",
              "      <th>TV-Y7-FV</th>\n",
              "      <th>UR</th>\n",
              "    </tr>\n",
              "    <tr>\n",
              "      <th>added_year</th>\n",
              "      <th></th>\n",
              "      <th></th>\n",
              "      <th></th>\n",
              "      <th></th>\n",
              "      <th></th>\n",
              "      <th></th>\n",
              "      <th></th>\n",
              "      <th></th>\n",
              "      <th></th>\n",
              "      <th></th>\n",
              "      <th></th>\n",
              "      <th></th>\n",
              "      <th></th>\n",
              "      <th></th>\n",
              "    </tr>\n",
              "  </thead>\n",
              "  <tbody>\n",
              "    <tr>\n",
              "      <th>2008</th>\n",
              "      <td>NaN</td>\n",
              "      <td>NaN</td>\n",
              "      <td>1.0</td>\n",
              "      <td>NaN</td>\n",
              "      <td>NaN</td>\n",
              "      <td>NaN</td>\n",
              "      <td>NaN</td>\n",
              "      <td>NaN</td>\n",
              "      <td>1.0</td>\n",
              "      <td>NaN</td>\n",
              "      <td>NaN</td>\n",
              "      <td>NaN</td>\n",
              "      <td>NaN</td>\n",
              "      <td>NaN</td>\n",
              "    </tr>\n",
              "    <tr>\n",
              "      <th>2009</th>\n",
              "      <td>NaN</td>\n",
              "      <td>NaN</td>\n",
              "      <td>1.0</td>\n",
              "      <td>NaN</td>\n",
              "      <td>NaN</td>\n",
              "      <td>NaN</td>\n",
              "      <td>1.0</td>\n",
              "      <td>NaN</td>\n",
              "      <td>NaN</td>\n",
              "      <td>NaN</td>\n",
              "      <td>NaN</td>\n",
              "      <td>NaN</td>\n",
              "      <td>NaN</td>\n",
              "      <td>NaN</td>\n",
              "    </tr>\n",
              "    <tr>\n",
              "      <th>2010</th>\n",
              "      <td>NaN</td>\n",
              "      <td>NaN</td>\n",
              "      <td>1.0</td>\n",
              "      <td>NaN</td>\n",
              "      <td>NaN</td>\n",
              "      <td>NaN</td>\n",
              "      <td>NaN</td>\n",
              "      <td>NaN</td>\n",
              "      <td>NaN</td>\n",
              "      <td>NaN</td>\n",
              "      <td>NaN</td>\n",
              "      <td>NaN</td>\n",
              "      <td>NaN</td>\n",
              "      <td>NaN</td>\n",
              "    </tr>\n",
              "    <tr>\n",
              "      <th>2011</th>\n",
              "      <td>NaN</td>\n",
              "      <td>NaN</td>\n",
              "      <td>9.0</td>\n",
              "      <td>NaN</td>\n",
              "      <td>NaN</td>\n",
              "      <td>NaN</td>\n",
              "      <td>NaN</td>\n",
              "      <td>NaN</td>\n",
              "      <td>NaN</td>\n",
              "      <td>4.0</td>\n",
              "      <td>NaN</td>\n",
              "      <td>NaN</td>\n",
              "      <td>NaN</td>\n",
              "      <td>NaN</td>\n",
              "    </tr>\n",
              "    <tr>\n",
              "      <th>2012</th>\n",
              "      <td>NaN</td>\n",
              "      <td>NaN</td>\n",
              "      <td>NaN</td>\n",
              "      <td>1.0</td>\n",
              "      <td>NaN</td>\n",
              "      <td>1.0</td>\n",
              "      <td>NaN</td>\n",
              "      <td>1.0</td>\n",
              "      <td>NaN</td>\n",
              "      <td>4.0</td>\n",
              "      <td>NaN</td>\n",
              "      <td>NaN</td>\n",
              "      <td>NaN</td>\n",
              "      <td>NaN</td>\n",
              "    </tr>\n",
              "    <tr>\n",
              "      <th>2013</th>\n",
              "      <td>NaN</td>\n",
              "      <td>NaN</td>\n",
              "      <td>5.0</td>\n",
              "      <td>1.0</td>\n",
              "      <td>NaN</td>\n",
              "      <td>NaN</td>\n",
              "      <td>2.0</td>\n",
              "      <td>1.0</td>\n",
              "      <td>2.0</td>\n",
              "      <td>1.0</td>\n",
              "      <td>NaN</td>\n",
              "      <td>NaN</td>\n",
              "      <td>NaN</td>\n",
              "      <td>NaN</td>\n",
              "    </tr>\n",
              "    <tr>\n",
              "      <th>2014</th>\n",
              "      <td>1.0</td>\n",
              "      <td>NaN</td>\n",
              "      <td>5.0</td>\n",
              "      <td>3.0</td>\n",
              "      <td>NaN</td>\n",
              "      <td>NaN</td>\n",
              "      <td>1.0</td>\n",
              "      <td>NaN</td>\n",
              "      <td>8.0</td>\n",
              "      <td>3.0</td>\n",
              "      <td>2.0</td>\n",
              "      <td>2.0</td>\n",
              "      <td>NaN</td>\n",
              "      <td>NaN</td>\n",
              "    </tr>\n",
              "    <tr>\n",
              "      <th>2015</th>\n",
              "      <td>1.0</td>\n",
              "      <td>NaN</td>\n",
              "      <td>19.0</td>\n",
              "      <td>2.0</td>\n",
              "      <td>2.0</td>\n",
              "      <td>3.0</td>\n",
              "      <td>11.0</td>\n",
              "      <td>10.0</td>\n",
              "      <td>19.0</td>\n",
              "      <td>9.0</td>\n",
              "      <td>4.0</td>\n",
              "      <td>5.0</td>\n",
              "      <td>3.0</td>\n",
              "      <td>NaN</td>\n",
              "    </tr>\n",
              "    <tr>\n",
              "      <th>2016</th>\n",
              "      <td>2.0</td>\n",
              "      <td>1.0</td>\n",
              "      <td>62.0</td>\n",
              "      <td>4.0</td>\n",
              "      <td>6.0</td>\n",
              "      <td>15.0</td>\n",
              "      <td>133.0</td>\n",
              "      <td>9.0</td>\n",
              "      <td>109.0</td>\n",
              "      <td>50.0</td>\n",
              "      <td>10.0</td>\n",
              "      <td>18.0</td>\n",
              "      <td>33.0</td>\n",
              "      <td>1.0</td>\n",
              "    </tr>\n",
              "    <tr>\n",
              "      <th>2017</th>\n",
              "      <td>4.0</td>\n",
              "      <td>NaN</td>\n",
              "      <td>62.0</td>\n",
              "      <td>22.0</td>\n",
              "      <td>27.0</td>\n",
              "      <td>71.0</td>\n",
              "      <td>372.0</td>\n",
              "      <td>28.0</td>\n",
              "      <td>434.0</td>\n",
              "      <td>192.0</td>\n",
              "      <td>37.0</td>\n",
              "      <td>37.0</td>\n",
              "      <td>9.0</td>\n",
              "      <td>2.0</td>\n",
              "    </tr>\n",
              "    <tr>\n",
              "      <th>2018</th>\n",
              "      <td>15.0</td>\n",
              "      <td>NaN</td>\n",
              "      <td>37.0</td>\n",
              "      <td>36.0</td>\n",
              "      <td>56.0</td>\n",
              "      <td>131.0</td>\n",
              "      <td>499.0</td>\n",
              "      <td>36.0</td>\n",
              "      <td>653.0</td>\n",
              "      <td>213.0</td>\n",
              "      <td>38.0</td>\n",
              "      <td>45.0</td>\n",
              "      <td>22.0</td>\n",
              "      <td>NaN</td>\n",
              "    </tr>\n",
              "    <tr>\n",
              "      <th>2019</th>\n",
              "      <td>9.0</td>\n",
              "      <td>1.0</td>\n",
              "      <td>15.0</td>\n",
              "      <td>96.0</td>\n",
              "      <td>153.0</td>\n",
              "      <td>240.0</td>\n",
              "      <td>655.0</td>\n",
              "      <td>63.0</td>\n",
              "      <td>765.0</td>\n",
              "      <td>219.0</td>\n",
              "      <td>48.0</td>\n",
              "      <td>54.0</td>\n",
              "      <td>27.0</td>\n",
              "      <td>4.0</td>\n",
              "    </tr>\n",
              "  </tbody>\n",
              "</table>\n",
              "</div>"
            ],
            "text/plain": [
              "rating         G  NC-17    NR    PG  PG-13  ...  TV-PG  TV-Y  TV-Y7  TV-Y7-FV   UR\n",
              "added_year                                  ...                                   \n",
              "2008         NaN    NaN   1.0   NaN    NaN  ...    NaN   NaN    NaN       NaN  NaN\n",
              "2009         NaN    NaN   1.0   NaN    NaN  ...    NaN   NaN    NaN       NaN  NaN\n",
              "2010         NaN    NaN   1.0   NaN    NaN  ...    NaN   NaN    NaN       NaN  NaN\n",
              "2011         NaN    NaN   9.0   NaN    NaN  ...    4.0   NaN    NaN       NaN  NaN\n",
              "2012         NaN    NaN   NaN   1.0    NaN  ...    4.0   NaN    NaN       NaN  NaN\n",
              "2013         NaN    NaN   5.0   1.0    NaN  ...    1.0   NaN    NaN       NaN  NaN\n",
              "2014         1.0    NaN   5.0   3.0    NaN  ...    3.0   2.0    2.0       NaN  NaN\n",
              "2015         1.0    NaN  19.0   2.0    2.0  ...    9.0   4.0    5.0       3.0  NaN\n",
              "2016         2.0    1.0  62.0   4.0    6.0  ...   50.0  10.0   18.0      33.0  1.0\n",
              "2017         4.0    NaN  62.0  22.0   27.0  ...  192.0  37.0   37.0       9.0  2.0\n",
              "2018        15.0    NaN  37.0  36.0   56.0  ...  213.0  38.0   45.0      22.0  NaN\n",
              "2019         9.0    1.0  15.0  96.0  153.0  ...  219.0  48.0   54.0      27.0  4.0\n",
              "\n",
              "[12 rows x 14 columns]"
            ]
          },
          "metadata": {
            "tags": []
          },
          "execution_count": 111
        }
      ]
    },
    {
      "cell_type": "markdown",
      "metadata": {
        "id": "7aRuLMEMNZta",
        "colab_type": "text"
      },
      "source": [
        "And let's plot!"
      ]
    },
    {
      "cell_type": "code",
      "metadata": {
        "id": "W-xavWboNcLl",
        "colab_type": "code",
        "outputId": "06f5be80-fa8a-44f5-aeb5-6af99d251886",
        "colab": {
          "base_uri": "https://localhost:8080/",
          "height": 351
        }
      },
      "source": [
        "plot_rate = rate_data.plot(figsize=(10,5))\n",
        "plot_rate.set_ylabel('counts')\n",
        "plot_rate.set_title('Rating counts per year');"
      ],
      "execution_count": 112,
      "outputs": [
        {
          "output_type": "display_data",
          "data": {
            "image/png": "[encoded data removed]",
            "text/plain": [
              "<Figure size 720x360 with 1 Axes>"
            ]
          },
          "metadata": {
            "tags": [],
            "needs_background": "light"
          }
        }
      ]
    },
    {
      "cell_type": "markdown",
      "metadata": {
        "id": "TpXogYd9NfJR",
        "colab_type": "text"
      },
      "source": [
        "We can see that in every rating type, there seems to be an increase of some sort. But let's confirm that by seeing if a term for an interaction between rating and year should be included."
      ]
    },
    {
      "cell_type": "code",
      "metadata": {
        "id": "K03fGEpONkwe",
        "colab_type": "code",
        "outputId": "415bb7cc-4f8c-4e74-bd2a-2d9ad09917ed",
        "colab": {
          "base_uri": "https://localhost:8080/",
          "height": 751
        }
      },
      "source": [
        "import statsmodels.formula.api as smf\n",
        "lm = smf.ols(formula='count ~ rating + added_year', data=r_times).fit();\n",
        "lm.summary()"
      ],
      "execution_count": 113,
      "outputs": [
        {
          "output_type": "execute_result",
          "data": {
            "text/html": [
              "<table class=\"simpletable\">\n",
              "<caption>OLS Regression Results</caption>\n",
              "<tr>\n",
              "  <th>Dep. Variable:</th>          <td>count</td>      <th>  R-squared:         </th> <td>   0.529</td>\n",
              "</tr>\n",
              "<tr>\n",
              "  <th>Model:</th>                   <td>OLS</td>       <th>  Adj. R-squared:    </th> <td>   0.441</td>\n",
              "</tr>\n",
              "<tr>\n",
              "  <th>Method:</th>             <td>Least Squares</td>  <th>  F-statistic:       </th> <td>   6.010</td>\n",
              "</tr>\n",
              "<tr>\n",
              "  <th>Date:</th>             <td>Mon, 18 May 2020</td> <th>  Prob (F-statistic):</th> <td>9.29e-08</td>\n",
              "</tr>\n",
              "<tr>\n",
              "  <th>Time:</th>                 <td>15:02:44</td>     <th>  Log-Likelihood:    </th> <td> -542.52</td>\n",
              "</tr>\n",
              "<tr>\n",
              "  <th>No. Observations:</th>      <td>    90</td>      <th>  AIC:               </th> <td>   1115.</td>\n",
              "</tr>\n",
              "<tr>\n",
              "  <th>Df Residuals:</th>          <td>    75</td>      <th>  BIC:               </th> <td>   1153.</td>\n",
              "</tr>\n",
              "<tr>\n",
              "  <th>Df Model:</th>              <td>    14</td>      <th>                     </th>     <td> </td>   \n",
              "</tr>\n",
              "<tr>\n",
              "  <th>Covariance Type:</th>      <td>nonrobust</td>    <th>                     </th>     <td> </td>   \n",
              "</tr>\n",
              "</table>\n",
              "<table class=\"simpletable\">\n",
              "<tr>\n",
              "           <td></td>             <th>coef</th>     <th>std err</th>      <th>t</th>      <th>P>|t|</th>  <th>[0.025</th>    <th>0.975]</th>  \n",
              "</tr>\n",
              "<tr>\n",
              "  <th>Intercept</th>          <td>-5.799e+04</td> <td> 9461.029</td> <td>   -6.129</td> <td> 0.000</td> <td>-7.68e+04</td> <td>-3.91e+04</td>\n",
              "</tr>\n",
              "<tr>\n",
              "  <th>rating[T.NC-17]</th>    <td>  -33.0915</td> <td>   89.910</td> <td>   -0.368</td> <td> 0.714</td> <td> -212.201</td> <td>  146.018</td>\n",
              "</tr>\n",
              "<tr>\n",
              "  <th>rating[T.NR]</th>       <td>   96.7469</td> <td>   57.404</td> <td>    1.685</td> <td> 0.096</td> <td>  -17.609</td> <td>  211.102</td>\n",
              "</tr>\n",
              "<tr>\n",
              "  <th>rating[T.PG]</th>       <td>   44.0498</td> <td>   59.574</td> <td>    0.739</td> <td> 0.462</td> <td>  -74.627</td> <td>  162.727</td>\n",
              "</tr>\n",
              "<tr>\n",
              "  <th>rating[T.PG-13]</th>    <td>   29.0876</td> <td>   66.629</td> <td>    0.437</td> <td> 0.664</td> <td> -103.645</td> <td>  161.820</td>\n",
              "</tr>\n",
              "<tr>\n",
              "  <th>rating[T.R]</th>        <td>   81.0861</td> <td>   63.508</td> <td>    1.277</td> <td> 0.206</td> <td>  -45.429</td> <td>  207.601</td>\n",
              "</tr>\n",
              "<tr>\n",
              "  <th>rating[T.TV-14]</th>    <td>  243.4592</td> <td>   59.738</td> <td>    4.075</td> <td> 0.000</td> <td>  124.455</td> <td>  362.463</td>\n",
              "</tr>\n",
              "<tr>\n",
              "  <th>rating[T.TV-G]</th>     <td>   38.4052</td> <td>   61.291</td> <td>    0.627</td> <td> 0.533</td> <td>  -83.692</td> <td>  160.502</td>\n",
              "</tr>\n",
              "<tr>\n",
              "  <th>rating[T.TV-MA]</th>    <td>  286.6789</td> <td>   59.804</td> <td>    4.794</td> <td> 0.000</td> <td>  167.543</td> <td>  405.815</td>\n",
              "</tr>\n",
              "<tr>\n",
              "  <th>rating[T.TV-PG]</th>    <td>  115.0262</td> <td>   58.383</td> <td>    1.970</td> <td> 0.053</td> <td>   -1.279</td> <td>  231.331</td>\n",
              "</tr>\n",
              "<tr>\n",
              "  <th>rating[T.TV-Y]</th>     <td>   17.8333</td> <td>   63.489</td> <td>    0.281</td> <td> 0.780</td> <td> -108.643</td> <td>  144.310</td>\n",
              "</tr>\n",
              "<tr>\n",
              "  <th>rating[T.TV-Y7]</th>    <td>   21.5000</td> <td>   63.489</td> <td>    0.339</td> <td> 0.736</td> <td> -104.977</td> <td>  147.977</td>\n",
              "</tr>\n",
              "<tr>\n",
              "  <th>rating[T.TV-Y7-FV]</th> <td>   -0.9124</td> <td>   66.629</td> <td>   -0.014</td> <td> 0.989</td> <td> -133.645</td> <td>  131.820</td>\n",
              "</tr>\n",
              "<tr>\n",
              "  <th>rating[T.UR]</th>       <td>  -26.9651</td> <td>   77.856</td> <td>   -0.346</td> <td> 0.730</td> <td> -182.062</td> <td>  128.132</td>\n",
              "</tr>\n",
              "<tr>\n",
              "  <th>added_year</th>         <td>   28.7582</td> <td>    4.692</td> <td>    6.130</td> <td> 0.000</td> <td>   19.412</td> <td>   38.105</td>\n",
              "</tr>\n",
              "</table>\n",
              "<table class=\"simpletable\">\n",
              "<tr>\n",
              "  <th>Omnibus:</th>       <td>28.404</td> <th>  Durbin-Watson:     </th> <td>   1.788</td>\n",
              "</tr>\n",
              "<tr>\n",
              "  <th>Prob(Omnibus):</th> <td> 0.000</td> <th>  Jarque-Bera (JB):  </th> <td>  72.277</td>\n",
              "</tr>\n",
              "<tr>\n",
              "  <th>Skew:</th>          <td> 1.064</td> <th>  Prob(JB):          </th> <td>2.02e-16</td>\n",
              "</tr>\n",
              "<tr>\n",
              "  <th>Kurtosis:</th>      <td> 6.840</td> <th>  Cond. No.          </th> <td>1.65e+06</td>\n",
              "</tr>\n",
              "</table><br/><br/>Warnings:<br/>[1] Standard Errors assume that the covariance matrix of the errors is correctly specified.<br/>[2] The condition number is large, 1.65e+06. This might indicate that there are<br/>strong multicollinearity or other numerical problems."
            ],
            "text/plain": [
              "<class 'statsmodels.iolib.summary.Summary'>\n",
              "\"\"\"\n",
              "                            OLS Regression Results                            \n",
              "==============================================================================\n",
              "Dep. Variable:                  count   R-squared:                       0.529\n",
              "Model:                            OLS   Adj. R-squared:                  0.441\n",
              "Method:                 Least Squares   F-statistic:                     6.010\n",
              "Date:                Mon, 18 May 2020   Prob (F-statistic):           9.29e-08\n",
              "Time:                        15:02:44   Log-Likelihood:                -542.52\n",
              "No. Observations:                  90   AIC:                             1115.\n",
              "Df Residuals:                      75   BIC:                             1153.\n",
              "Df Model:                          14                                         \n",
              "Covariance Type:            nonrobust                                         \n",
              "======================================================================================\n",
              "                         coef    std err          t      P>|t|      [0.025      0.975]\n",
              "--------------------------------------------------------------------------------------\n",
              "Intercept          -5.799e+04   9461.029     -6.129      0.000   -7.68e+04   -3.91e+04\n",
              "rating[T.NC-17]      -33.0915     89.910     -0.368      0.714    -212.201     146.018\n",
              "rating[T.NR]          96.7469     57.404      1.685      0.096     -17.609     211.102\n",
              "rating[T.PG]          44.0498     59.574      0.739      0.462     -74.627     162.727\n",
              "rating[T.PG-13]       29.0876     66.629      0.437      0.664    -103.645     161.820\n",
              "rating[T.R]           81.0861     63.508      1.277      0.206     -45.429     207.601\n",
              "rating[T.TV-14]      243.4592     59.738      4.075      0.000     124.455     362.463\n",
              "rating[T.TV-G]        38.4052     61.291      0.627      0.533     -83.692     160.502\n",
              "rating[T.TV-MA]      286.6789     59.804      4.794      0.000     167.543     405.815\n",
              "rating[T.TV-PG]      115.0262     58.383      1.970      0.053      -1.279     231.331\n",
              "rating[T.TV-Y]        17.8333     63.489      0.281      0.780    -108.643     144.310\n",
              "rating[T.TV-Y7]       21.5000     63.489      0.339      0.736    -104.977     147.977\n",
              "rating[T.TV-Y7-FV]    -0.9124     66.629     -0.014      0.989    -133.645     131.820\n",
              "rating[T.UR]         -26.9651     77.856     -0.346      0.730    -182.062     128.132\n",
              "added_year            28.7582      4.692      6.130      0.000      19.412      38.105\n",
              "==============================================================================\n",
              "Omnibus:                       28.404   Durbin-Watson:                   1.788\n",
              "Prob(Omnibus):                  0.000   Jarque-Bera (JB):               72.277\n",
              "Skew:                           1.064   Prob(JB):                     2.02e-16\n",
              "Kurtosis:                       6.840   Cond. No.                     1.65e+06\n",
              "==============================================================================\n",
              "\n",
              "Warnings:\n",
              "[1] Standard Errors assume that the covariance matrix of the errors is correctly specified.\n",
              "[2] The condition number is large, 1.65e+06. This might indicate that there are\n",
              "strong multicollinearity or other numerical problems.\n",
              "\"\"\""
            ]
          },
          "metadata": {
            "tags": []
          },
          "execution_count": 113
        }
      ]
    },
    {
      "cell_type": "markdown",
      "metadata": {
        "id": "Yu2aLTLgSTwy",
        "colab_type": "text"
      },
      "source": [
        "We can see the pvalues for almost all the ratings are greater than 0.05. Thus, we cannot reject the null hypothesis that there is no relationship between rating and year added, besides for the rating for TV-14 and TV-MA."
      ]
    },
    {
      "cell_type": "markdown",
      "metadata": {
        "id": "HthlhKUI8sDo",
        "colab_type": "text"
      },
      "source": [
        "### **Insight**\n",
        "\n",
        "Overall, from our analysis we can confrim Netflix is a popular online streaming service that is worth your investment during this country wide lockdown. We can see its growth throughout the years and its evergrowing additions of movie/tv shows to its site. Netflix is really trying to keep up the high demands of the general public, and it's this effort that's keeping Netflix at the top of the movies/tv shows streaming sites. "
      ]
    },
    {
      "cell_type": "markdown",
      "metadata": {
        "id": "HzKM9gvG850Q",
        "colab_type": "text"
      },
      "source": [
        "### **Resources**"
      ]
    },
    {
      "cell_type": "markdown",
      "metadata": {
        "id": "7WGLa51F89Np",
        "colab_type": "text"
      },
      "source": [
        "This tutorial only covered some of the basics of the different packages and libraries that are available in Python. For more details check out the links below:\n",
        "\n",
        "\n",
        "Packages:\n",
        "\n",
        "*   [Pandas](http://pandas.pydata.org/)\n",
        "*   [Numpy](http://www.numpy.org/)\n",
        "*   [Matplotlib](https://matplotlib.org/)\n",
        "*   [Scikit-learn](http://scikit-learn.org/stable/)\n",
        "*   [Beautiful Soup](https://www.crummy.com/software/BeautifulSoup/)\n",
        "\n",
        "More Examples:\n",
        "\n",
        "*   [Python Data Science Tutorial](https://www.tutorialspoint.com/python_data_science/python_data_aggregation.htm)\n",
        "*   [Matplotlib](https://realpython.com/python-matplotlib-guide/)\n",
        "*   [NumPy](https://www.w3schools.com/python/numpy_intro.asp)"
      ]
    }
  ]
}